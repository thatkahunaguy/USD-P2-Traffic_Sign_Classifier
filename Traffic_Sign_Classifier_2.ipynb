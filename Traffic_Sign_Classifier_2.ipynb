{
 "cells": [
  {
   "cell_type": "markdown",
   "metadata": {},
   "source": [
    "# Self-Driving Car Engineer Nanodegree\n",
    "\n",
    "## Deep Learning\n",
    "\n",
    "## Project: Build a Traffic Sign Recognition Classifier\n",
    "\n",
    "In this notebook, a template is provided for you to implement your functionality in stages, which is required to successfully complete this project. If additional code is required that cannot be included in the notebook, be sure that the Python code is successfully imported and included in your submission if necessary. \n",
    "\n",
    "> **Note**: Once you have completed all of the code implementations, you need to finalize your work by exporting the iPython Notebook as an HTML document. Before exporting the notebook to html, all of the code cells need to have been run so that reviewers can see the final implementation and output. You can then export the notebook by using the menu above and navigating to  \\n\",\n",
    "    \"**File -> Download as -> HTML (.html)**. Include the finished document along with this notebook as your submission. \n",
    "\n",
    "In addition to implementing code, there is a writeup to complete. The writeup should be completed in a separate file, which can be either a markdown file or a pdf document. There is a [write up template](https://github.com/udacity/CarND-Traffic-Sign-Classifier-Project/blob/master/writeup_template.md) that can be used to guide the writing process. Completing the code template and writeup template will cover all of the [rubric points](https://review.udacity.com/#!/rubrics/481/view) for this project.\n",
    "\n",
    "The [rubric](https://review.udacity.com/#!/rubrics/481/view) contains \"Stand Out Suggestions\" for enhancing the project beyond the minimum requirements. The stand out suggestions are optional. If you decide to pursue the \"stand out suggestions\", you can include the code in this Ipython notebook and also discuss the results in the writeup file.\n",
    "\n",
    "\n",
    ">**Note:** Code and Markdown cells can be executed using the **Shift + Enter** keyboard shortcut. In addition, Markdown cells can be edited by typically double-clicking the cell to enter edit mode."
   ]
  },
  {
   "cell_type": "markdown",
   "metadata": {},
   "source": [
    "---\n",
    "## Step 0: Load The Data"
   ]
  },
  {
   "cell_type": "code",
   "execution_count": 1,
   "metadata": {
    "collapsed": false
   },
   "outputs": [],
   "source": [
    "# Load pickled data\n",
    "import pickle\n",
    "\n",
    "# TODO: Fill this in based on where you saved the training and testing data\n",
    "\n",
    "training_file = \"traffic-signs-data/train.p\"\n",
    "validation_file= \"traffic-signs-data/valid.p\"\n",
    "testing_file = \"traffic-signs-data/test.p\"\n",
    "\n",
    "with open(training_file, mode='rb') as f:\n",
    "    train = pickle.load(f)\n",
    "with open(validation_file, mode='rb') as f:\n",
    "    valid = pickle.load(f)\n",
    "with open(testing_file, mode='rb') as f:\n",
    "    test = pickle.load(f)\n",
    "    \n",
    "X_train, y_train = train['features'], train['labels']\n",
    "X_valid, y_valid = valid['features'], valid['labels']\n",
    "X_test, y_test = test['features'], test['labels']"
   ]
  },
  {
   "cell_type": "markdown",
   "metadata": {},
   "source": [
    "---\n",
    "\n",
    "## Step 1: Dataset Summary & Exploration\n",
    "\n",
    "The pickled data is a dictionary with 4 key/value pairs:\n",
    "\n",
    "- `'features'` is a 4D array containing raw pixel data of the traffic sign images, (num examples, width, height, channels).\n",
    "- `'labels'` is a 1D array containing the label/class id of the traffic sign. The file `signnames.csv` contains id -> name mappings for each id.\n",
    "- `'sizes'` is a list containing tuples, (width, height) representing the original width and height the image.\n",
    "- `'coords'` is a list containing tuples, (x1, y1, x2, y2) representing coordinates of a bounding box around the sign in the image. **THESE COORDINATES ASSUME THE ORIGINAL IMAGE. THE PICKLED DATA CONTAINS RESIZED VERSIONS (32 by 32) OF THESE IMAGES**\n",
    "\n",
    "Complete the basic data summary below. Use python, numpy and/or pandas methods to calculate the data summary rather than hard coding the results. For example, the [pandas shape method](http://pandas.pydata.org/pandas-docs/stable/generated/pandas.DataFrame.shape.html) might be useful for calculating some of the summary results. "
   ]
  },
  {
   "cell_type": "markdown",
   "metadata": {},
   "source": [
    "### Provide a Basic Summary of the Data Set Using Python, Numpy and/or Pandas"
   ]
  },
  {
   "cell_type": "code",
   "execution_count": 2,
   "metadata": {
    "collapsed": false
   },
   "outputs": [
    {
     "name": "stdout",
     "output_type": "stream",
     "text": [
      "Number of training examples = 34799\n",
      "Number of testing examples = 12630\n",
      "Number of validation examples = 4410\n",
      "Image data shape = (32, 32)\n",
      "Original sign coords =  [ 6  5 21 20]\n",
      "Number of classes = 43\n"
     ]
    }
   ],
   "source": [
    "### Replace each question mark with the appropriate value. \n",
    "### Use python, pandas or numpy methods rather than hard coding the results\n",
    "\n",
    "# TODO: Number of training examples\n",
    "n_train = len(X_train)\n",
    "\n",
    "# TODO: Number of testing examples.\n",
    "n_test = len(X_test)\n",
    "\n",
    "# Added number of validation examples to verify there are zero as the video noted\n",
    "# Note that it says there are 4410 validation examples so this seems to have changed\n",
    "# since the video was created meaning we don't need to split validation examples\n",
    "# off from the training set(20% recommended as a good rule of thumb) using \n",
    "# from sklearn.utils import train_test_split\n",
    "n_valid = len(X_valid)\n",
    "\n",
    "# TODO: What's the shape of an traffic sign image?\n",
    "# train['features'] indexes [ex #][width index][height index[channel]\n",
    "image_shape = (len(train['features'][0]), len(train['features'][0][0]))\n",
    "\n",
    "# add original sign coordinates relative to ORIGINAL dimensions NOT 32x32\n",
    "coords = train['coords'][0]\n",
    "\n",
    "# TODO: How many unique classes/labels there are in the dataset.\n",
    "n_classes = len(set(y_train))\n",
    "\n",
    "print(\"Number of training examples =\", n_train)\n",
    "print(\"Number of testing examples =\", n_test)\n",
    "print(\"Number of validation examples =\", n_valid)\n",
    "print(\"Image data shape =\", image_shape)\n",
    "print(\"Original sign coords = \", coords)\n",
    "print(\"Number of classes =\", n_classes)"
   ]
  },
  {
   "cell_type": "markdown",
   "metadata": {},
   "source": [
    "### Include an exploratory visualization of the dataset"
   ]
  },
  {
   "cell_type": "markdown",
   "metadata": {},
   "source": [
    "Visualize the German Traffic Signs Dataset using the pickled file(s). This is open ended, suggestions include: plotting traffic sign images, plotting the count of each sign, etc. \n",
    "\n",
    "The [Matplotlib](http://matplotlib.org/) [examples](http://matplotlib.org/examples/index.html) and [gallery](http://matplotlib.org/gallery.html) pages are a great resource for doing visualizations in Python.\n",
    "\n",
    "**NOTE:** It's recommended you start with something simple first. If you wish to do more, come back to it after you've completed the rest of the sections. It can be interesting to look at the distribution of classes in the training, validation and test set. Is the distribution the same? Are there more examples of some classes than others?"
   ]
  },
  {
   "cell_type": "code",
   "execution_count": 3,
   "metadata": {
    "collapsed": false
   },
   "outputs": [
    {
     "name": "stdout",
     "output_type": "stream",
     "text": [
      "Correct Classification ID:  9\n",
      "Correct Sign Name:  No passing\n"
     ]
    },
    {
     "data": {
      "image/png": "[encoded data removed]",
      "text/plain": [
       "<matplotlib.figure.Figure at 0x124228518>"
      ]
     },
     "metadata": {},
     "output_type": "display_data"
    }
   ],
   "source": [
    "### Data exploration visualization code goes here.\n",
    "### Feel free to use as many code cells as needed.\n",
    "import matplotlib.pyplot as plt\n",
    "import random, csv\n",
    "# Visualizations will be shown in the notebook.\n",
    "%matplotlib inline\n",
    "\n",
    "# Load the signnames.csv file as a dictionary with ClassId as key\n",
    "with open('signnames.csv') as csvfile:\n",
    "    reader = csv.DictReader(csvfile)\n",
    "    stuff = []\n",
    "    for line in reader:\n",
    "        stuff.append(line)\n",
    "sign_types = {}\n",
    "for i in stuff:\n",
    "    sign_types[i[\"ClassId\"]] = i[\"SignName\"]\n",
    "\n",
    "# pick a random sign to visualize\n",
    "index = random.randint(0, len(X_train))\n",
    "image = X_train[index].squeeze()\n",
    "\n",
    "plt.figure(figsize=(2,2))\n",
    "plt.imshow(image)\n",
    "print(\"Correct Classification ID: \", y_train[index])\n",
    "sign_name = sign_types[str(y_train[index])]\n",
    "print(\"Correct Sign Name: \", sign_name)"
   ]
  },
  {
   "cell_type": "code",
   "execution_count": 89,
   "metadata": {
    "collapsed": false
   },
   "outputs": [
    {
     "data": {
      "image/png": "[encoded data removed]",
      "text/plain": [
       "<matplotlib.figure.Figure at 0x14f4a0550>"
      ]
     },
     "metadata": {},
     "output_type": "display_data"
    }
   ],
   "source": [
    "# use plt.subplot() to make a grid of example images\n",
    "# close the plots that are open as there were too many for memory\n",
    "plt.close('all')\n",
    "fig = plt.figure(figsize=(10,10))\n",
    "# visualize 25 random signs\n",
    "for i in range(25):\n",
    "    index = random.randint(0, len(X_train))\n",
    "    image = X_train[index].squeeze()\n",
    "    ax = fig.add_subplot(5, 5, i + 1, xticks=[], yticks=[])\n",
    "    ax.imshow(image.squeeze())\n"
   ]
  },
  {
   "cell_type": "code",
   "execution_count": 97,
   "metadata": {
    "collapsed": false
   },
   "outputs": [
    {
     "name": "stdout",
     "output_type": "stream",
     "text": [
      "[ 180 1980 2010 1260 1770 1650  360 1290 1260 1320 1800 1170 1890 1920  690\n",
      "  540  360  990 1080  180  300  270  330  450  240 1350  540  210  480  240\n",
      "  390  690  210  599  360 1080  330  180 1860  270  300  210  210]\n"
     ]
    },
    {
     "data": {
      "image/png": "[encoded data removed]",
      "text/plain": [
       "<matplotlib.figure.Figure at 0x14893de80>"
      ]
     },
     "metadata": {},
     "output_type": "display_data"
    }
   ],
   "source": [
    "# visualize counts of each sign type\n",
    "# https://matplotlib.org/examples/api/barchart_demo.html\n",
    "bins = np.bincount(y_train)\n",
    "ind = np.arange(len(bins))\n",
    "print(bins)\n",
    "fig, ax = plt.subplots()\n",
    "ax.bar(ind, bins, width=.5)\n",
    "ax.set_ylabel('Sign Count')\n",
    "ax.set_title('Count of Signs by Sign Number')\n",
    "plt.show()"
   ]
  },
  {
   "cell_type": "markdown",
   "metadata": {},
   "source": [
    "----\n",
    "\n",
    "## Step 2: Design and Test a Model Architecture\n",
    "\n",
    "Design and implement a deep learning model that learns to recognize traffic signs. Train and test your model on the [German Traffic Sign Dataset](http://benchmark.ini.rub.de/?section=gtsrb&subsection=dataset).\n",
    "\n",
    "The LeNet-5 implementation shown in the [classroom](https://classroom.udacity.com/nanodegrees/nd013/parts/fbf77062-5703-404e-b60c-95b78b2f3f9e/modules/6df7ae49-c61c-4bb2-a23e-6527e69209ec/lessons/601ae704-1035-4287-8b11-e2c2716217ad/concepts/d4aca031-508f-4e0b-b493-e7b706120f81) at the end of the CNN lesson is a solid starting point. You'll have to change the number of classes and possibly the preprocessing, but aside from that it's plug and play! \n",
    "\n",
    "With the LeNet-5 solution from the lecture, you should expect a validation set accuracy of about 0.89. To meet specifications, the validation set accuracy will need to be at least 0.93. It is possible to get an even higher accuracy, but 0.93 is the minimum for a successful project submission. \n",
    "\n",
    "There are various aspects to consider when thinking about this problem:\n",
    "\n",
    "- Neural network architecture (is the network over or underfitting?)\n",
    "- Play around preprocessing techniques (normalization, rgb to grayscale, etc)\n",
    "- Number of examples per label (some have more than others).\n",
    "- Generate fake data.\n",
    "\n",
    "Here is an example of a [published baseline model on this problem](http://yann.lecun.com/exdb/publis/pdf/sermanet-ijcnn-11.pdf). It's not required to be familiar with the approach used in the paper but, it's good practice to try to read papers like these."
   ]
  },
  {
   "cell_type": "markdown",
   "metadata": {},
   "source": [
    "### Pre-process the Data Set (normalization, grayscale, etc.)"
   ]
  },
  {
   "cell_type": "markdown",
   "metadata": {},
   "source": [
    "Minimally, the image data should be normalized so that the data has mean zero and equal variance. For image data, `(pixel - 128)/ 128` is a quick way to approximately normalize the data and can be used in this project. \n",
    "\n",
    "Other pre-processing steps are optional. You can try different techniques to see if it improves performance. \n",
    "\n",
    "Use the code cell (or multiple code cells, if necessary) to implement the first step of your project."
   ]
  },
  {
   "cell_type": "code",
   "execution_count": 4,
   "metadata": {
    "collapsed": false
   },
   "outputs": [
    {
     "name": "stdout",
     "output_type": "stream",
     "text": [
      "augment:  True\n",
      "initial data size:  (34799, 32, 32)\n",
      "x_rotated data size:  (34799, 32, 32)\n",
      "augmented X data size:  (69598, 32, 32)\n",
      "augmented y data size:  (69598,)\n",
      "final data size/shape:  (69598, 32, 32, 1)\n",
      "augment:  False\n",
      "final data size/shape:  (4410, 32, 32, 1)\n",
      "index:  34484\n",
      "Correct Classification ID:  25\n",
      "Correct Sign Name:  Road work\n"
     ]
    },
    {
     "data": {
      "image/png": "[encoded data removed]",
      "text/plain": [
       "<matplotlib.figure.Figure at 0x127af8f98>"
      ]
     },
     "metadata": {},
     "output_type": "display_data"
    }
   ],
   "source": [
    "### Preprocess the data here. It is required to normalize the data. Other preprocessing steps could include \n",
    "### converting to grayscale, etc.\n",
    "### Feel free to use as many code cells as needed.\n",
    "import numpy as np\n",
    "from sklearn.utils import shuffle\n",
    "from skimage import exposure\n",
    "from skimage.transform import rotate\n",
    "import matplotlib.pyplot as plt\n",
    "import random, csv\n",
    "\n",
    "\n",
    "# image transformation for data augmentation - currently only rotate\n",
    "def transform(X, deg):    \n",
    "    for i in range(X.shape[0]):\n",
    "        X[i] = rotate(X[i], random.uniform(-deg, deg), mode = 'edge')\n",
    "    return X\n",
    "\n",
    "# data preprocessing\n",
    "def preprocess(X, y, augment = False):\n",
    "    \n",
    "    # Use the Y channel of YUV as grayscale channel\n",
    "    X = 0.299 * X[:, :, :, 0] + 0.587 * X[:, :, :, 1] + 0.114 * X[:, :, :, 2]\n",
    "\n",
    "    # Augment the data(X) with random rotation +/- deg if augmentation is requested\n",
    "    print(\"augment: \", augment)\n",
    "    if augment:\n",
    "        print(\"initial data size: \",X.shape)\n",
    "        X_rotated = transform(X, 15.)\n",
    "        print(\"x_rotated data size: \",X_rotated.shape)\n",
    "        X = np.append(X, X_rotated, axis = 0)\n",
    "        y = np.append(y, y, axis = 0)\n",
    "        print(\"augmented X data size: \",X.shape)\n",
    "        print(\"augmented y data size: \",y.shape)\n",
    "\n",
    "    #normalize the data to -1 to 1\n",
    "    X = ((X - 128.0)/128.0).astype(np.float32)\n",
    "\n",
    "    # apply histogram equalization recommended from forums & Yann Lecun\n",
    "    # unable to utilize resolve adapthist errors, utilizing hist\n",
    "    # note that input image must already be normalized\n",
    "    for i in range(X.shape[0]):\n",
    "        X[i] = exposure.equalize_hist(X[i])\n",
    "\n",
    "    # Add a single grayscale channel since Y conversion dropped 4th/channel dimension\n",
    "    X = X.reshape(X.shape + (1,))\n",
    "    print(\"final data size/shape: \",X.shape)\n",
    "    \n",
    "    return X, y\n",
    "\n",
    "# preprocess the training data augmented with rotation\n",
    "X_train_aug, y_train_aug = preprocess(X_train, y_train, augment=True)\n",
    "X_valid_pp, y_valid_pp = preprocess(X_valid, y_valid)\n",
    "\n",
    "# pick a random sign to visualize\n",
    "index = random.randint(0, len(X_train_aug))\n",
    "print(\"index: \", index)\n",
    "image = X_train_aug[index].squeeze()\n",
    "plt.figure(figsize=(2,2))\n",
    "plt.imshow(image, cmap='gray')\n",
    "print(\"Correct Classification ID: \", y_train_aug[index])\n",
    "sign_name = sign_types[str(y_train_aug[index])]\n",
    "print(\"Correct Sign Name: \", sign_name)"
   ]
  },
  {
   "cell_type": "markdown",
   "metadata": {},
   "source": [
    "### Model Architecture"
   ]
  },
  {
   "cell_type": "code",
   "execution_count": 25,
   "metadata": {
    "collapsed": false
   },
   "outputs": [],
   "source": [
    "### Define your architecture here.\n",
    "### Feel free to use as many code cells as needed.\n",
    "import tensorflow as tf\n",
    "from collections import namedtuple\n",
    "from tensorflow.contrib.layers import flatten\n",
    "\n",
    "# layer helper functions\n",
    "# note I'm using tf.get_variable as described here https://www.tensorflow.org/programmers_guide/variable_scope\n",
    "# because initial implementation had problems with saving and restoring variables with the session\n",
    "# also using a xavier initializer rather than random_normal per suggestions from the forums\n",
    "\n",
    "# kernel_shape/filter size, output depth, stride are the key hyperparameters\n",
    "def conv_relu(input, filter_size, k_out, stride, pad='SAME'):\n",
    "    # Create variable named \"weights\".\n",
    "    weights = tf.get_variable(\"weights\",\n",
    "        shape = [filter_size, filter_size, input.get_shape()[3], k_out],\n",
    "        initializer = tf.contrib.layers.xavier_initializer()\n",
    "        )\n",
    "    # Create variable named \"biases\".\n",
    "    biases = tf.get_variable(\"biases\", k_out,\n",
    "        initializer=tf.constant_initializer(0.0)\n",
    "        )\n",
    "    conv = tf.nn.conv2d(input, weights,\n",
    "        strides=[1, stride, stride, 1],\n",
    "        padding=pad\n",
    "        )\n",
    "    return tf.nn.relu(conv + biases)\n",
    "\n",
    "# k/filter size and stride are the key hyperparameters\n",
    "def pool(input, ksize, stride, pad='SAME'):\n",
    "    return tf.nn.max_pool(input,\n",
    "                ksize=[1, ksize, ksize, 1],\n",
    "                strides = [1, stride, stride, 1],\n",
    "                padding=pad)\n",
    "\n",
    "# kernel_shape/filter size, output depth, stride are the key hyperparameters\n",
    "def f_connected(input, k_output, pad='SAME'):\n",
    "    # Create variable named \"weights\".\n",
    "    weights = tf.get_variable(\"weights\", \n",
    "        shape = [input.get_shape()[1], k_output],\n",
    "        initializer=tf.contrib.layers.xavier_initializer()\n",
    "        )\n",
    "    # Create variable named \"biases\".\n",
    "    biases = tf.get_variable(\"biases\", k_output,\n",
    "        initializer=tf.constant_initializer(0.0)\n",
    "        )\n",
    "    return tf.matmul(input, weights) + biases\n",
    "\n",
    "def f_connected_relu(input, k_output, pad='SAME'):\n",
    "    return tf.nn.relu(f_connected(input, k_output, pad))\n",
    "\n",
    "# create a named tuple to pass in model parameters per suggestion from forums\n",
    "# this would allow tuning of the parameters externally if desired\n",
    "Params = namedtuple('Params', [\n",
    "        # Data parameters\n",
    "        'num_logits', 'image_size', \n",
    "        # Training parameters\n",
    "        'batch_size', 'epochs',\n",
    "        # Optimization\n",
    "        'learning_rate',\n",
    "        # Model architecture\n",
    "        # f: filter size\n",
    "        # k_out: depth/# of outputs\n",
    "        # s: stride\n",
    "        # kp: keep probability for dropout during training - currently only fc layers\n",
    "        # could add padding here if want to make this variable\n",
    "        'conv1_f', 'conv1_k_out', 'conv1_stride',\n",
    "        'pool1_f', 'pool1_s', \n",
    "        'conv2_f', 'conv2_k_out', 'conv2_stride',\n",
    "        'pool2_f', 'pool2_s',  \n",
    "        'fc1_k_out', 'fc1_kp',\n",
    "        'fc2_k_out', 'fc2_kp'\n",
    "    ])\n",
    "\n",
    "# Define the model\n",
    "def model(input, params, is_training):\n",
    "    ''' \n",
    "        input: batch of image tensors\n",
    "        params: named_tuple to pass in model parameters\n",
    "        is_training: tf.boolean for condition on whether training or not \n",
    "                        https://www.tensorflow.org/api_docs/python/tf/cond\n",
    "    '''\n",
    "    # Convolution layers\n",
    "    with tf.variable_scope('conv1'):\n",
    "        conv1 = conv_relu(input, filter_size=params.conv1_f, k_out=params.conv1_k_out, stride=params.conv1_stride) \n",
    "        pool1 = pool(conv1, ksize=params.pool1_f, stride=params.pool1_s)\n",
    "    with tf.variable_scope('conv2'):\n",
    "        conv2 = conv_relu(pool1, filter_size=params.conv2_f, k_out=params.conv2_k_out, stride=params.conv2_stride) \n",
    "        pool2 = pool(conv2, ksize=params.pool2_f, stride=params.pool2_s)\n",
    "\n",
    "    # combine feedforward pool1 output with pool2 as input to fully connected layers\n",
    "    fc_input = tf.concat(1, [flatten(conv1), flatten(conv2)])\n",
    "    \n",
    "    # Fully connected layers\n",
    "    with tf.variable_scope('fc1'):\n",
    "        fc1 = f_connected_relu(fc_input, k_output=params.fc1_k_out)\n",
    "        # apply dropout if training\n",
    "        fc1 = tf.cond(is_training, lambda: tf.nn.dropout(fc1, keep_prob=params.fc1_kp,), lambda: fc1)\n",
    "    with tf.variable_scope('fc2'):\n",
    "        fc2 = f_connected_relu(fc1, k_output=params.fc2_k_out)\n",
    "        # apply dropout if training\n",
    "        fc2 = tf.cond(is_training, lambda: tf.nn.dropout(fc2, keep_prob=params.fc2_kp), lambda: fc2)\n",
    "    with tf.variable_scope('output'):\n",
    "        logits = f_connected(fc2, k_output=params.num_logits)\n",
    "        \n",
    "    return logits\n",
    "    \n",
    "\n"
   ]
  },
  {
   "cell_type": "code",
   "execution_count": null,
   "metadata": {
    "collapsed": true
   },
   "outputs": [],
   "source": [
    "# original calculations for layer sizes before moving to functions which auto calculate\n",
    "    # Layer 1: Convolutional. Input = 32x32x1. Output = 28x28x10.\n",
    "    # Convolution filter - calculated from new_height = (input_height - filter_height + 2 P)/S + 1\n",
    "    # could have a filter_size width and height but no need since usually square\n",
    "    # filter_size = 5\n",
    "    # Layer 1p: Pooling. Input = 28x28x10. Output = 14x14x10.\n",
    "    # Pooling filter - calculated from new_height = (input_height - filter_height + 2 P)/S + 1\n",
    "    # could have a k_filter_size width & height but since generally square no need\n",
    "    # k_filter_size = 2\n",
    "    # Layer 2: Convolutional. Input = 14x14x10 Output = 10x10x20. Filter size 5\n",
    "    # Layer 2p: Pooling. Input = 10x10x20. Output = 5x5x20. Filter size 2\n",
    "    # Flatten. Input = 5x5x20. Output = 500.\n",
    "    # add the output of conv 1 as an additional input to FC1\n",
    "    # 14x14x10 adds 1960 inputs for total Output = 2460\n",
    "    # Layer 3: Fully Connected. Input = 2460. Output = 200.\n",
    "    # Layer 4: Fully Connected. Input = 200. Output = 84.\n",
    "    # Layer 5: Fully Connected. Input = 84. Output = num_logits(43 in this case)"
   ]
  },
  {
   "cell_type": "markdown",
   "metadata": {},
   "source": [
    "### Train, Validate and Test the Model"
   ]
  },
  {
   "cell_type": "markdown",
   "metadata": {},
   "source": [
    "A validation set can be used to assess how well the model is performing. A low accuracy on the training and validation\n",
    "sets imply underfitting. A high accuracy on the training set but low accuracy on the validation set implies overfitting."
   ]
  },
  {
   "cell_type": "code",
   "execution_count": 37,
   "metadata": {
    "collapsed": true
   },
   "outputs": [],
   "source": [
    "### Train your model here.\n",
    "### Calculate and report the accuracy on the training and validation set.\n",
    "### Once a final model architecture is selected, \n",
    "### the accuracy on the test set should be calculated and reported as well.\n",
    "### Feel free to use as many code cells as needed.\n",
    "\n",
    "def train_model(params, X_train, y_train, X_valid, y_valid,): \n",
    "    #invalidate any previously built graphs since we are using Jupyter & cells get rerun\n",
    "    tf.reset_default_graph()\n",
    "    print(\"default graph reset\")\n",
    "    # Build the graph - note this was added from forums after difficulty restoring saved sessions\n",
    "    # not clear both reset and this are necessary but...\n",
    "    graph = tf.Graph()\n",
    "    with graph.as_default():\n",
    "        # Placeholders for batches of images and classifications and traininig boolean\n",
    "        x_batch = tf.placeholder(tf.float32, shape = (None, params.image_size[0], params.image_size[1], 1))\n",
    "        y_batch = tf.placeholder(tf.int32, None)\n",
    "        is_training = tf.placeholder(tf.bool)\n",
    "        one_hot_y = tf.one_hot(y_batch, params.num_logits)\n",
    "        with tf.variable_scope('sign_classifier_project'):\n",
    "            logits = model(x_batch, params, is_training)\n",
    "        # note: consider sparse since api docs say this is what to use with exclusive labels w/o one_hot\n",
    "        # need to clarify if its better to use non-sparse with one_hot y\n",
    "        cross_entropy = tf.nn.softmax_cross_entropy_with_logits(logits, one_hot_y)\n",
    "        loss_operation = tf.reduce_mean(cross_entropy)\n",
    "        optimizer = tf.train.AdamOptimizer(learning_rate = params.learning_rate)\n",
    "        training_operation = optimizer.minimize(loss_operation)\n",
    "        # evaluate\n",
    "        correct_prediction = tf.equal(tf.argmax(logits, 1), tf.argmax(one_hot_y, 1))\n",
    "        accuracy_operation = tf.reduce_mean(tf.cast(correct_prediction, tf.float32))\n",
    "        \n",
    "    with tf.Session(graph = graph) as session:\n",
    "        session.run(tf.global_variables_initializer())\n",
    "        print(\"Session started and variables initialized...\")\n",
    "        num_examples = len(X_train)\n",
    "        def evaluate(X_data, y_data):\n",
    "            num_examples = len(X_data)\n",
    "            total_accuracy = 0\n",
    "            # sess = tf.get_default_session()\n",
    "            for offset in range(0, num_examples, params.batch_size):\n",
    "                batch_x, batch_y = X_data[offset:offset+params.batch_size], y_data[offset:offset+params.batch_size]\n",
    "                accuracy = session.run(accuracy_operation, feed_dict={x_batch: batch_x, y_batch: batch_y, is_training: False})\n",
    "                total_accuracy += (accuracy * len(batch_x))\n",
    "            return total_accuracy / num_examples\n",
    "        saver = tf.train.Saver()\n",
    "        print(\"Saver created...\")\n",
    "        print(\"Training...\")\n",
    "        print()\n",
    "        for i in range(params.epochs):\n",
    "            X_train, y_train = shuffle(X_train, y_train)\n",
    "            for offset in range(0, num_examples, params.batch_size):\n",
    "                end = offset + params.batch_size\n",
    "                batch_x, batch_y = X_train[offset:end], y_train[offset:end]\n",
    "                session.run(training_operation, feed_dict={x_batch: batch_x, y_batch: batch_y, is_training: True})\n",
    "        \n",
    "            validation_accuracy = evaluate(X_valid, y_valid)\n",
    "            print(\"EPOCH {} ...\".format(i+1))\n",
    "            print(\"Validation Accuracy = {:.3f}\".format(validation_accuracy))\n",
    "            training_accuracy = evaluate(X_train, y_train)\n",
    "            print(\"Training Accuracy = {:.3f}\".format(training_accuracy))\n",
    "            print()\n",
    "        \n",
    "\n",
    "        saved_model_path = saver.save(session, './traffic2')\n",
    "        print(\"Model saved to traffic2\")\n"
   ]
  },
  {
   "cell_type": "code",
   "execution_count": 40,
   "metadata": {
    "collapsed": false
   },
   "outputs": [
    {
     "name": "stdout",
     "output_type": "stream",
     "text": [
      "augmented y train data size:  (69598,)\n",
      "X valid data size:  (4410, 32, 32, 1)\n",
      "y valid data size:  (4410,)\n",
      "default graph reset\n",
      "Session started and variables initialized...\n",
      "Saver created...\n",
      "Training...\n",
      "\n",
      "EPOCH 1 ...\n",
      "Validation Accuracy = 0.794\n",
      "Training Accuracy = 0.839\n",
      "\n",
      "EPOCH 2 ...\n",
      "Validation Accuracy = 0.881\n",
      "Training Accuracy = 0.922\n",
      "\n",
      "EPOCH 3 ...\n",
      "Validation Accuracy = 0.907\n",
      "Training Accuracy = 0.952\n",
      "\n",
      "Model saved to traffic2\n"
     ]
    }
   ],
   "source": [
    "# define the model parameters and train\n",
    "\n",
    "params = Params(\n",
    "    # Data parameters\n",
    "        num_logits = 43,\n",
    "        image_size = (32, 32), \n",
    "        # Training parameters\n",
    "        batch_size = 128,\n",
    "        epochs = 3,\n",
    "        # Optimization\n",
    "        learning_rate = 0.001,\n",
    "        # Model architecture\n",
    "        # f: filter size\n",
    "        # k_out: depth/# of outputs\n",
    "        # s: stride\n",
    "        # kp: keep probability for dropout during training - currently only fc layers\n",
    "        # could add padding here if want to make this variable\n",
    "        conv1_f = 5,\n",
    "        conv1_k_out = 10,\n",
    "        conv1_stride = 1,\n",
    "        pool1_f = 2,\n",
    "        pool1_s = 2, \n",
    "        conv2_f = 5,\n",
    "        conv2_k_out = 20,\n",
    "        conv2_stride = 1,\n",
    "        pool2_f = 2,\n",
    "        pool2_s = 2,  \n",
    "        fc1_k_out = 200,\n",
    "        fc1_kp = 0.7,\n",
    "        fc2_k_out = 84,\n",
    "        fc2_kp = 0.7\n",
    ")\n",
    "\n",
    "print(\"augmented y train data size: \",y_train_aug.shape)\n",
    "print(\"X valid data size: \",X_valid_pp.shape)\n",
    "print(\"y valid data size: \",y_valid_pp.shape)\n",
    "train_model(params, X_train_aug, y_train_aug, X_valid_pp, y_valid_pp)"
   ]
  },
  {
   "cell_type": "markdown",
   "metadata": {},
   "source": [
    "---\n",
    "\n",
    "## Step 3: Test a Model on New Images\n",
    "\n",
    "To give yourself more insight into how your model is working, download at least five pictures of German traffic signs from the web and use your model to predict the traffic sign type.\n",
    "\n",
    "You may find `signnames.csv` useful as it contains mappings from the class id (integer) to the actual sign name."
   ]
  },
  {
   "cell_type": "markdown",
   "metadata": {},
   "source": [
    "### Load and Output the Images"
   ]
  },
  {
   "cell_type": "code",
   "execution_count": 107,
   "metadata": {
    "collapsed": false
   },
   "outputs": [
    {
     "name": "stdout",
     "output_type": "stream",
     "text": [
      "images array shape:  (5, 32, 32, 3)\n",
      "augment:  False\n",
      "final data size/shape:  (5, 32, 32, 1)\n",
      "pp images array shape:  (5, 32, 32, 1)\n"
     ]
    },
    {
     "data": {
      "image/png": "[encoded data removed]",
      "text/plain": [
       "<matplotlib.figure.Figure at 0x107697b38>"
      ]
     },
     "metadata": {},
     "output_type": "display_data"
    },
    {
     "data": {
      "image/png": "[encoded data removed]",
      "text/plain": [
       "<matplotlib.figure.Figure at 0x107697940>"
      ]
     },
     "metadata": {},
     "output_type": "display_data"
    }
   ],
   "source": [
    "### Load the images and plot them here.\n",
    "### Feel free to use as many code cells as needed.\n",
    "import cv2\n",
    "import matplotlib.pyplot as plt\n",
    "# Visualizations will be shown in the notebook.\n",
    "%matplotlib inline\n",
    "# close the plots that are open as there were too many for memory\n",
    "plt.close('all')\n",
    "images = np.empty([5, 32, 32, 3], dtype = int)\n",
    "# these are the image identifies for the test images\n",
    "# note the last 2 may actually be euro vs german and might not be in the model\n",
    "image_types = np.array([21,1,8,17,28])\n",
    "print(\"images array shape: \", images.shape)\n",
    "fig = plt.figure(figsize=(10, 2))\n",
    "for i in range(1, 6):\n",
    "    file = \"new-signs/sign_\" + str(i) + \".jpg\"\n",
    "    image = cv2.imread(file, 1)\n",
    "    image = cv2.resize(image, (32, 32), interpolation = cv2.INTER_AREA)\n",
    "    images[i-1] = image\n",
    "    ax = fig.add_subplot(1, 5, i, xticks=[], yticks=[])\n",
    "    if i == 1: ax.set_title('Original Images:')\n",
    "    ax.imshow(image)\n",
    "    #plt.imshow(image)\n",
    "\n",
    "    \n",
    "fig = plt.figure(figsize=(10, 2))\n",
    "X_pp, y_pp = preprocess(images, image_types)\n",
    "print(\"pp images array shape: \",X_pp.shape)\n",
    "for i in range(0, 5):\n",
    "    image_pp = X_pp[i].squeeze()\n",
    "    ax = fig.add_subplot(1, 5, i+1, xticks=[], yticks=[])\n",
    "    if i == 0: ax.set_title('Preprocessed Images:')\n",
    "    ax.imshow(image_pp, cmap=\"gray\")"
   ]
  },
  {
   "cell_type": "markdown",
   "metadata": {},
   "source": [
    "### Predict the Sign Type for Each Image"
   ]
  },
  {
   "cell_type": "code",
   "execution_count": 50,
   "metadata": {
    "collapsed": false
   },
   "outputs": [
    {
     "name": "stdout",
     "output_type": "stream",
     "text": [
      "default graph reset\n"
     ]
    }
   ],
   "source": [
    "### Run the predictions here and use the model to output the prediction for each image.\n",
    "### Make sure to pre-process the images with the same pre-processing pipeline used earlier.\n",
    "### Feel free to use as many code cells as needed.\n",
    "\n",
    "# function to get the top k predictions from the model given image input X\n",
    "def top_k_predictions(X, params, k):\n",
    "    #invalidate any previously built graphs since we are using Jupyter & cells get rerun\n",
    "    tf.reset_default_graph()\n",
    "    print(\"default graph reset\")\n",
    "    # Build the graph - note this was added from forums after difficulty restoring saved sessions\n",
    "    # not clear both reset and this are necessary but...\n",
    "    graph = tf.Graph()\n",
    "    with graph.as_default():\n",
    "        # Placeholders for batches of images and classifications and traininig boolean\n",
    "        x_predict = tf.placeholder(tf.float32, shape = (None, params.image_size[0], params.image_size[1], 1))\n",
    "        is_training = tf.constant(False)\n",
    "        with tf.variable_scope('sign_classifier_project'):\n",
    "            predictions = tf.nn.softmax(model(x_predict, params, is_training))\n",
    "            top_k = tf.nn.top_k(predictions, k)\n",
    "            \n",
    "    with tf.Session(graph = graph) as session:\n",
    "        session.run(tf.global_variables_initializer())\n",
    "        tf.train.Saver().restore(session, './traffic2')\n",
    "        [p] = session.run([top_k], feed_dict = {x_predict : X})\n",
    "        return np.array(p)\n",
    "        '''#result = sess.run(softmax, feed_dict={x_predict: X_pp})\n",
    "        #print(\"result found\")\n",
    "        values, indices = session.run(top_k, feed_dict={x_predict: X_pp})\n",
    "        probs = session.run(values)\n",
    "        preds = session.run(indices)\n",
    "        return probs, preds  '''\n",
    "\n",
    "params = Params(\n",
    "    # Data parameters\n",
    "        num_logits = 43,\n",
    "        image_size = (32, 32), \n",
    "        # Training parameters\n",
    "        batch_size = 128,\n",
    "        epochs = 3,\n",
    "        # Optimization\n",
    "        learning_rate = 0.001,\n",
    "        # Model architecture\n",
    "        # f: filter size\n",
    "        # k_out: depth/# of outputs\n",
    "        # s: stride\n",
    "        # kp: keep probability for dropout during training - currently only fc layers\n",
    "        # could add padding here if want to make this variable\n",
    "        conv1_f = 5,\n",
    "        conv1_k_out = 10,\n",
    "        conv1_stride = 1,\n",
    "        pool1_f = 2,\n",
    "        pool1_s = 2, \n",
    "        conv2_f = 5,\n",
    "        conv2_k_out = 20,\n",
    "        conv2_stride = 1,\n",
    "        pool2_f = 2,\n",
    "        pool2_s = 2,  \n",
    "        fc1_k_out = 200,\n",
    "        fc1_kp = 0.7,\n",
    "        fc2_k_out = 84,\n",
    "        fc2_kp = 0.7\n",
    ")\n",
    "\n",
    "\n",
    "# run the top_k_predictions on the already preprocessed data to get top 5 predictions\n",
    "probs, predictions = top_k_predictions(X_pp, params, k=5)\n",
    "\n"
   ]
  },
  {
   "cell_type": "code",
   "execution_count": 51,
   "metadata": {
    "collapsed": false
   },
   "outputs": [
    {
     "name": "stdout",
     "output_type": "stream",
     "text": [
      "predictions [[ 11.  30.  23.  20.  28.]\n",
      " [  1.   2.   5.   6.   0.]\n",
      " [  8.   4.  15.   7.   0.]\n",
      " [ 17.  14.   8.  33.   0.]\n",
      " [ 28.  20.  29.  24.  23.]]\n",
      "correct classifications after shuffle: [21  1  8 17 28]\n",
      "predicted classifications [11.0, 1.0, 8.0, 17.0, 28.0]\n",
      "probabilities:  [[  2.63113290e-01   1.65907860e-01   1.65730134e-01   1.12497553e-01\n",
      "    1.05847292e-01]\n",
      " [  6.36105835e-01   2.80253023e-01   2.92528998e-02   2.77181342e-02\n",
      "    8.50049220e-03]\n",
      " [  8.32733691e-01   1.52049884e-01   9.11444798e-03   2.60106684e-03\n",
      "    1.59870286e-03]\n",
      " [  9.99294162e-01   7.05575454e-04   6.23187333e-08   5.96050782e-08\n",
      "    3.37433192e-08]\n",
      " [  6.56192482e-01   1.46821856e-01   7.65740648e-02   3.53665687e-02\n",
      "    2.30659302e-02]]\n",
      "softmax predictions:  [[ 11.  30.  23.  20.  28.]\n",
      " [  1.   2.   5.   6.   0.]\n",
      " [  8.   4.  15.   7.   0.]\n",
      " [ 17.  14.   8.  33.   0.]\n",
      " [ 28.  20.  29.  24.  23.]]\n"
     ]
    }
   ],
   "source": [
    "# display predictions\n",
    "print(\"predictions\", predictions)    \n",
    "print(\"correct classifications after shuffle:\", y_pp)\n",
    "print(\"predicted classifications\", [predictions[i][0] for i in range(0,5)])\n",
    "print(\"probabilities: \", probs)\n",
    "print(\"softmax predictions: \", predictions)"
   ]
  },
  {
   "cell_type": "markdown",
   "metadata": {},
   "source": [
    "### Analyze Performance"
   ]
  },
  {
   "cell_type": "code",
   "execution_count": 60,
   "metadata": {
    "collapsed": false
   },
   "outputs": [
    {
     "name": "stdout",
     "output_type": "stream",
     "text": [
      "For these 5 images the model is 80% accurate\n",
      " \n",
      "Incorrect Identification # 1\n",
      "   sign:  21   Double curve\n",
      "was incorrectly identified as:\n",
      "   sign:  11   Right-of-way at the next intersection\n",
      " \n"
     ]
    }
   ],
   "source": [
    "### Calculate the accuracy for these 5 new images. \n",
    "### For example, if the model predicted 1 out of 5 signs correctly, it's 20% accurate on these new images.\n",
    "correct_count = 0\n",
    "incorrect_indices = []\n",
    "for i in range(0,5):\n",
    "    if int(predictions[i][0]) == y_pp[i]:\n",
    "        correct_count += 1\n",
    "    else:\n",
    "        incorrect_indices.append(i)\n",
    "print(\"For these 5 images the model is {:.0%} accurate\".format(correct_count/5))\n",
    "print(\" \")\n",
    "for i in range(0, len(incorrect_indices)):\n",
    "    print(\"Incorrect Identification #\", i+1)\n",
    "    print(\"   sign: \", y_pp[i], \" \", sign_types[str(y_pp[i])])\n",
    "    print(\"was incorrectly identified as:\")\n",
    "    print(\"   sign: \", int(predictions[i][0]), \" \", sign_types[str(int(predictions[i][0]))])\n",
    "    print(\" \")"
   ]
  },
  {
   "cell_type": "markdown",
   "metadata": {},
   "source": [
    "### Output Top 5 Softmax Probabilities For Each Image Found on the Web"
   ]
  },
  {
   "cell_type": "markdown",
   "metadata": {},
   "source": [
    "For each of the new images, print out the model's softmax probabilities to show the **certainty** of the model's predictions (limit the output to the top 5 probabilities for each image). [`tf.nn.top_k`](https://www.tensorflow.org/versions/r0.12/api_docs/python/nn.html#top_k) could prove helpful here. \n",
    "\n",
    "The example below demonstrates how tf.nn.top_k can be used to find the top k predictions for each image.\n",
    "\n",
    "`tf.nn.top_k` will return the values and indices (class ids) of the top k predictions. So if k=3, for each sign, it'll return the 3 largest probabilities (out of a possible 43) and the correspoding class ids.\n",
    "\n",
    "Take this numpy array as an example. The values in the array represent predictions. The array contains softmax probabilities for five candidate images with six possible classes. `tk.nn.top_k` is used to choose the three classes with the highest probability:\n",
    "\n",
    "```\n",
    "# (5, 6) array\n",
    "a = np.array([[ 0.24879643,  0.07032244,  0.12641572,  0.34763842,  0.07893497,\n",
    "         0.12789202],\n",
    "       [ 0.28086119,  0.27569815,  0.08594638,  0.0178669 ,  0.18063401,\n",
    "         0.15899337],\n",
    "       [ 0.26076848,  0.23664738,  0.08020603,  0.07001922,  0.1134371 ,\n",
    "         0.23892179],\n",
    "       [ 0.11943333,  0.29198961,  0.02605103,  0.26234032,  0.1351348 ,\n",
    "         0.16505091],\n",
    "       [ 0.09561176,  0.34396535,  0.0643941 ,  0.16240774,  0.24206137,\n",
    "         0.09155967]])\n",
    "```\n",
    "\n",
    "Running it through `sess.run(tf.nn.top_k(tf.constant(a), k=3))` produces:\n",
    "\n",
    "```\n",
    "TopKV2(values=array([[ 0.34763842,  0.24879643,  0.12789202],\n",
    "       [ 0.28086119,  0.27569815,  0.18063401],\n",
    "       [ 0.26076848,  0.23892179,  0.23664738],\n",
    "       [ 0.29198961,  0.26234032,  0.16505091],\n",
    "       [ 0.34396535,  0.24206137,  0.16240774]]), indices=array([[3, 0, 5],\n",
    "       [0, 1, 4],\n",
    "       [0, 5, 1],\n",
    "       [1, 3, 5],\n",
    "       [1, 4, 3]], dtype=int32))\n",
    "```\n",
    "\n",
    "Looking just at the first row we get `[ 0.34763842,  0.24879643,  0.12789202]`, you can confirm these are the 3 largest probabilities in `a`. You'll also notice `[3, 0, 5]` are the corresponding indices."
   ]
  },
  {
   "cell_type": "code",
   "execution_count": 69,
   "metadata": {
    "collapsed": false
   },
   "outputs": [
    {
     "name": "stdout",
     "output_type": "stream",
     "text": [
      "see prior cell, info repeated and formatted below\n",
      " \n",
      "probabilities: \n",
      "[[ 26.31%  16.59%  16.57%  11.25%  10.58%]\n",
      " [ 63.61%  28.03%  2.93%  2.77%  0.85%]\n",
      " [ 83.27%  15.20%  0.91%  0.26%  0.16%]\n",
      " [ 99.93%  0.07%  0.00%  0.00%  0.00%]\n",
      " [ 65.62%  14.68%  7.66%  3.54%  2.31%]]\n"
     ]
    }
   ],
   "source": [
    "### Print out the top five softmax probabilities for the predictions on the German traffic sign images found on the web. \n",
    "### Feel free to use as many code cells as needed.\n",
    "print(\"see prior cell, info repeated and formatted below\")\n",
    "print(\" \")\n",
    "np.set_printoptions(formatter={'float': '{: 0.2%}'.format})\n",
    "print(\"probabilities: \")\n",
    "print(probs)"
   ]
  },
  {
   "cell_type": "code",
   "execution_count": 114,
   "metadata": {
    "collapsed": false
   },
   "outputs": [
    {
     "name": "stdout",
     "output_type": "stream",
     "text": [
      "Note: the images were shuffled after visualization so are in a different order than above\n",
      " \n",
      "The predictions for example 0  sign # 21 Double curve  were:\n",
      "   probability:  26.31%  Right-of-way at the next intersection\n",
      "   probability:  16.59%  Beware of ice/snow\n",
      "   probability:  16.57%  Slippery road\n",
      "   probability:  11.25%  Dangerous curve to the right\n",
      "   probability:  10.58%  Children crossing\n",
      " \n",
      "The predictions for example 1  sign # 1 Speed limit (30km/h)  were:\n",
      "   probability:  63.61%  Speed limit (30km/h)\n",
      "   probability:  28.03%  Speed limit (50km/h)\n",
      "   probability:  2.93%  Speed limit (80km/h)\n",
      "   probability:  2.77%  End of speed limit (80km/h)\n",
      "   probability:  0.85%  Speed limit (20km/h)\n",
      " \n",
      "The predictions for example 2  sign # 8 Speed limit (120km/h)  were:\n",
      "   probability:  83.27%  Speed limit (120km/h)\n",
      "   probability:  15.20%  Speed limit (70km/h)\n",
      "   probability:  0.91%  No vehicles\n",
      "   probability:  0.26%  Speed limit (100km/h)\n",
      "   probability:  0.16%  Speed limit (20km/h)\n",
      " \n",
      "The predictions for example 3  sign # 17 No entry  were:\n",
      "   probability:  99.93%  No entry\n",
      "   probability:  0.07%  Stop\n",
      "   probability:  0.00%  Speed limit (120km/h)\n",
      "   probability:  0.00%  Turn right ahead\n",
      "   probability:  0.00%  Speed limit (20km/h)\n",
      " \n",
      "The predictions for example 4  sign # 28 Children crossing  were:\n",
      "   probability:  65.62%  Children crossing\n",
      "   probability:  14.68%  Dangerous curve to the right\n",
      "   probability:  7.66%  Bicycles crossing\n",
      "   probability:  3.54%  Road narrows on the right\n",
      "   probability:  2.31%  Slippery road\n",
      " \n"
     ]
    }
   ],
   "source": [
    "# List the predicted sign types for each of the input signs\n",
    "print(\"Note: the images were shuffled after visualization so are in a different order than above\")\n",
    "print(\" \")\n",
    "for i in range(0,5):\n",
    "    print(\"The predictions for example\", i, \" sign #\", y_pp[i], sign_types[str(y_pp[i])], \" were:\")\n",
    "    for j in range (0, 5):\n",
    "        print((\"   probability: {: 0.2%} \").format(probs[i][j]), sign_types[str(int(predictions[i][j]))])\n",
    "    print(\" \")"
   ]
  },
  {
   "cell_type": "markdown",
   "metadata": {},
   "source": [
    "### Project Writeup\n",
    "\n",
    "Once you have completed the code implementation, document your results in a project writeup using this [template](https://github.com/udacity/CarND-Traffic-Sign-Classifier-Project/blob/master/writeup_template.md) as a guide. The writeup can be in a markdown or pdf file. "
   ]
  },
  {
   "cell_type": "markdown",
   "metadata": {},
   "source": [
    "> **Note**: Once you have completed all of the code implementations and successfully answered each question above, you may finalize your work by exporting the iPython Notebook as an HTML document. You can do this by using the menu above and navigating to  \\n\",\n",
    "    \"**File -> Download as -> HTML (.html)**. Include the finished document along with this notebook as your submission."
   ]
  },
  {
   "cell_type": "markdown",
   "metadata": {},
   "source": [
    "---\n",
    "\n",
    "## Step 4 (Optional): Visualize the Neural Network's State with Test Images\n",
    "\n",
    " This Section is not required to complete but acts as an additional excersise for understaning the output of a neural network's weights. While neural networks can be a great learning device they are often referred to as a black box. We can understand what the weights of a neural network look like better by plotting their feature maps. After successfully training your neural network you can see what it's feature maps look like by plotting the output of the network's weight layers in response to a test stimuli image. From these plotted feature maps, it's possible to see what characteristics of an image the network finds interesting. For a sign, maybe the inner network feature maps react with high activation to the sign's boundary outline or to the contrast in the sign's painted symbol.\n",
    "\n",
    " Provided for you below is the function code that allows you to get the visualization output of any tensorflow weight layer you want. The inputs to the function should be a stimuli image, one used during training or a new one you provided, and then the tensorflow variable name that represents the layer's state during the training process, for instance if you wanted to see what the [LeNet lab's](https://classroom.udacity.com/nanodegrees/nd013/parts/fbf77062-5703-404e-b60c-95b78b2f3f9e/modules/6df7ae49-c61c-4bb2-a23e-6527e69209ec/lessons/601ae704-1035-4287-8b11-e2c2716217ad/concepts/d4aca031-508f-4e0b-b493-e7b706120f81) feature maps looked like for it's second convolutional layer you could enter conv2 as the tf_activation variable.\n",
    "\n",
    "For an example of what feature map outputs look like, check out NVIDIA's results in their paper [End-to-End Deep Learning for Self-Driving Cars](https://devblogs.nvidia.com/parallelforall/deep-learning-self-driving-cars/) in the section Visualization of internal CNN State. NVIDIA was able to show that their network's inner weights had high activations to road boundary lines by comparing feature maps from an image with a clear path to one without. Try experimenting with a similar test to show that your trained network's weights are looking for interesting features, whether it's looking at differences in feature maps from images with or without a sign, or even what feature maps look like in a trained network vs a completely untrained one on the same sign image.\n",
    "\n",
    "<figure>\n",
    " <img src=\"visualize_cnn.png\" width=\"380\" alt=\"Combined Image\" />\n",
    " <figcaption>\n",
    " <p></p> \n",
    " <p style=\"text-align: center;\"> Your output should look something like this (above)</p> \n",
    " </figcaption>\n",
    "</figure>\n",
    " <p></p> \n"
   ]
  },
  {
   "cell_type": "code",
   "execution_count": null,
   "metadata": {
    "collapsed": true
   },
   "outputs": [],
   "source": [
    "### Visualize your network's feature maps here.\n",
    "### Feel free to use as many code cells as needed.\n",
    "\n",
    "# image_input: the test image being fed into the network to produce the feature maps\n",
    "# tf_activation: should be a tf variable name used during your training procedure that represents the calculated state of a specific weight layer\n",
    "# activation_min/max: can be used to view the activation contrast in more detail, by default matplot sets min and max to the actual min and max values of the output\n",
    "# plt_num: used to plot out multiple different weight feature map sets on the same block, just extend the plt number for each new feature map entry\n",
    "\n",
    "def outputFeatureMap(image_input, tf_activation, activation_min=-1, activation_max=-1 ,plt_num=1):\n",
    "    # Here make sure to preprocess your image_input in a way your network expects\n",
    "    # with size, normalization, ect if needed\n",
    "    # image_input =\n",
    "    # Note: x should be the same name as your network's tensorflow data placeholder variable\n",
    "    # If you get an error tf_activation is not defined it may be having trouble accessing the variable from inside a function\n",
    "    activation = tf_activation.eval(session=sess,feed_dict={x : image_input})\n",
    "    featuremaps = activation.shape[3]\n",
    "    plt.figure(plt_num, figsize=(15,15))\n",
    "    for featuremap in range(featuremaps):\n",
    "        plt.subplot(6,8, featuremap+1) # sets the number of feature maps to show on each row and column\n",
    "        plt.title('FeatureMap ' + str(featuremap)) # displays the feature map number\n",
    "        if activation_min != -1 & activation_max != -1:\n",
    "            plt.imshow(activation[0,:,:, featuremap], interpolation=\"nearest\", vmin =activation_min, vmax=activation_max, cmap=\"gray\")\n",
    "        elif activation_max != -1:\n",
    "            plt.imshow(activation[0,:,:, featuremap], interpolation=\"nearest\", vmax=activation_max, cmap=\"gray\")\n",
    "        elif activation_min !=-1:\n",
    "            plt.imshow(activation[0,:,:, featuremap], interpolation=\"nearest\", vmin=activation_min, cmap=\"gray\")\n",
    "        else:\n",
    "            plt.imshow(activation[0,:,:, featuremap], interpolation=\"nearest\", cmap=\"gray\")"
   ]
  }
 ],
 "metadata": {
  "anaconda-cloud": {},
  "kernelspec": {
   "display_name": "Python 3",
   "language": "python",
   "name": "python3"
  },
  "language_info": {
   "codemirror_mode": {
    "name": "ipython",
    "version": 3
   },
   "file_extension": ".py",
   "mimetype": "text/x-python",
   "name": "python",
   "nbconvert_exporter": "python",
   "pygments_lexer": "ipython3",
   "version": "3.5.2"
  },
  "widgets": {
   "state": {},
   "version": "1.1.2"
  }
 },
 "nbformat": 4,
 "nbformat_minor": 1
}
