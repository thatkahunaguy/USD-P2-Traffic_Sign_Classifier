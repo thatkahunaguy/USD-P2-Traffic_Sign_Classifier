{
 "cells": [
  {
   "cell_type": "markdown",
   "metadata": {},
   "source": [
    "# Self-Driving Car Engineer Nanodegree\n",
    "\n",
    "## Deep Learning\n",
    "\n",
    "## Project: Build a Traffic Sign Recognition Classifier\n",
    "\n",
    "In this notebook, a template is provided for you to implement your functionality in stages, which is required to successfully complete this project. If additional code is required that cannot be included in the notebook, be sure that the Python code is successfully imported and included in your submission if necessary. \n",
    "\n",
    "> **Note**: Once you have completed all of the code implementations, you need to finalize your work by exporting the iPython Notebook as an HTML document. Before exporting the notebook to html, all of the code cells need to have been run so that reviewers can see the final implementation and output. You can then export the notebook by using the menu above and navigating to  \\n\",\n",
    "    \"**File -> Download as -> HTML (.html)**. Include the finished document along with this notebook as your submission. \n",
    "\n",
    "In addition to implementing code, there is a writeup to complete. The writeup should be completed in a separate file, which can be either a markdown file or a pdf document. There is a [write up template](https://github.com/udacity/CarND-Traffic-Sign-Classifier-Project/blob/master/writeup_template.md) that can be used to guide the writing process. Completing the code template and writeup template will cover all of the [rubric points](https://review.udacity.com/#!/rubrics/481/view) for this project.\n",
    "\n",
    "The [rubric](https://review.udacity.com/#!/rubrics/481/view) contains \"Stand Out Suggestions\" for enhancing the project beyond the minimum requirements. The stand out suggestions are optional. If you decide to pursue the \"stand out suggestions\", you can include the code in this Ipython notebook and also discuss the results in the writeup file.\n",
    "\n",
    "\n",
    ">**Note:** Code and Markdown cells can be executed using the **Shift + Enter** keyboard shortcut. In addition, Markdown cells can be edited by typically double-clicking the cell to enter edit mode."
   ]
  },
  {
   "cell_type": "markdown",
   "metadata": {},
   "source": [
    "---\n",
    "## Step 0: Load The Data"
   ]
  },
  {
   "cell_type": "code",
   "execution_count": 26,
   "metadata": {
    "collapsed": false
   },
   "outputs": [],
   "source": [
    "# Load pickled data\n",
    "import pickle\n",
    "\n",
    "# TODO: Fill this in based on where you saved the training and testing data\n",
    "\n",
    "training_file = \"traffic-signs-data/train.p\"\n",
    "validation_file= \"traffic-signs-data/valid.p\"\n",
    "testing_file = \"traffic-signs-data/test.p\"\n",
    "\n",
    "with open(training_file, mode='rb') as f:\n",
    "    train = pickle.load(f)\n",
    "with open(validation_file, mode='rb') as f:\n",
    "    valid = pickle.load(f)\n",
    "with open(testing_file, mode='rb') as f:\n",
    "    test = pickle.load(f)\n",
    "    \n",
    "X_train, y_train = train['features'], train['labels']\n",
    "X_valid, y_valid = valid['features'], valid['labels']\n",
    "X_test, y_test = test['features'], test['labels']"
   ]
  },
  {
   "cell_type": "markdown",
   "metadata": {},
   "source": [
    "---\n",
    "\n",
    "## Step 1: Dataset Summary & Exploration\n",
    "\n",
    "The pickled data is a dictionary with 4 key/value pairs:\n",
    "\n",
    "- `'features'` is a 4D array containing raw pixel data of the traffic sign images, (num examples, width, height, channels).\n",
    "- `'labels'` is a 1D array containing the label/class id of the traffic sign. The file `signnames.csv` contains id -> name mappings for each id.\n",
    "- `'sizes'` is a list containing tuples, (width, height) representing the original width and height the image.\n",
    "- `'coords'` is a list containing tuples, (x1, y1, x2, y2) representing coordinates of a bounding box around the sign in the image. **THESE COORDINATES ASSUME THE ORIGINAL IMAGE. THE PICKLED DATA CONTAINS RESIZED VERSIONS (32 by 32) OF THESE IMAGES**\n",
    "\n",
    "Complete the basic data summary below. Use python, numpy and/or pandas methods to calculate the data summary rather than hard coding the results. For example, the [pandas shape method](http://pandas.pydata.org/pandas-docs/stable/generated/pandas.DataFrame.shape.html) might be useful for calculating some of the summary results. "
   ]
  },
  {
   "cell_type": "markdown",
   "metadata": {},
   "source": [
    "### Provide a Basic Summary of the Data Set Using Python, Numpy and/or Pandas"
   ]
  },
  {
   "cell_type": "code",
   "execution_count": 27,
   "metadata": {
    "collapsed": false
   },
   "outputs": [
    {
     "name": "stdout",
     "output_type": "stream",
     "text": [
      "Number of training examples = 34799\n",
      "Number of testing examples = 12630\n",
      "Number of validation examples = 4410\n",
      "Image data shape = (32, 32)\n",
      "Original sign coords =  [ 6  5 21 20]\n",
      "Number of classes = 43\n"
     ]
    }
   ],
   "source": [
    "### Replace each question mark with the appropriate value. \n",
    "### Use python, pandas or numpy methods rather than hard coding the results\n",
    "\n",
    "# TODO: Number of training examples\n",
    "n_train = len(X_train)\n",
    "\n",
    "# TODO: Number of testing examples.\n",
    "n_test = len(X_test)\n",
    "\n",
    "# Added number of validation examples to verify there are zero as the video noted\n",
    "# Note that it says there are 4410 validation examples so this seems to have changed\n",
    "# since the video was created meaning we don't need to split validation examples\n",
    "# off from the training set(20% recommended as a good rule of thumb) using \n",
    "# from sklearn.utils import train_test_split\n",
    "n_valid = len(X_valid)\n",
    "\n",
    "# TODO: What's the shape of an traffic sign image?\n",
    "# train['features'] indexes [ex #][width index][height index[channel]\n",
    "image_shape = (len(train['features'][0]), len(train['features'][0][0]))\n",
    "\n",
    "# add original sign coordinates relative to ORIGINAL dimensions NOT 32x32\n",
    "coords = train['coords'][0]\n",
    "\n",
    "# TODO: How many unique classes/labels there are in the dataset.\n",
    "n_classes = len(set(y_train))\n",
    "\n",
    "print(\"Number of training examples =\", n_train)\n",
    "print(\"Number of testing examples =\", n_test)\n",
    "print(\"Number of validation examples =\", n_valid)\n",
    "print(\"Image data shape =\", image_shape)\n",
    "print(\"Original sign coords = \", coords)\n",
    "print(\"Number of classes =\", n_classes)"
   ]
  },
  {
   "cell_type": "markdown",
   "metadata": {},
   "source": [
    "### Include an exploratory visualization of the dataset"
   ]
  },
  {
   "cell_type": "markdown",
   "metadata": {},
   "source": [
    "Visualize the German Traffic Signs Dataset using the pickled file(s). This is open ended, suggestions include: plotting traffic sign images, plotting the count of each sign, etc.\n",
    "\n",
    "The [Matplotlib](http://matplotlib.org/) [examples](http://matplotlib.org/examples/index.html) and [gallery](http://matplotlib.org/gallery.html) pages are a great resource for doing visualizations in Python.\n",
    "\n",
    "**NOTE:** It's recommended you start with something simple first. If you wish to do more, come back to it after you've completed the rest of the sections."
   ]
  },
  {
   "cell_type": "code",
   "execution_count": 28,
   "metadata": {
    "collapsed": false
   },
   "outputs": [
    {
     "name": "stdout",
     "output_type": "stream",
     "text": [
      "Correct Classification ID:  33\n",
      "Correct Sign Name:  Turn right ahead\n"
     ]
    },
    {
     "data": {
      "image/png": "[encoded data removed]",
      "text/plain": [
       "<matplotlib.figure.Figure at 0x12e17d2b0>"
      ]
     },
     "metadata": {},
     "output_type": "display_data"
    }
   ],
   "source": [
    "### Data exploration visualization code goes here.\n",
    "### Feel free to use as many code cells as needed.\n",
    "import matplotlib.pyplot as plt\n",
    "import random, csv\n",
    "# Visualizations will be shown in the notebook.\n",
    "%matplotlib inline\n",
    "\n",
    "# Load the signnames.csv file as a dictionary with ClassId as key\n",
    "with open('signnames.csv') as csvfile:\n",
    "    reader = csv.DictReader(csvfile)\n",
    "    stuff = []\n",
    "    for line in reader:\n",
    "        stuff.append(line)\n",
    "sign_types = {}\n",
    "for i in stuff:\n",
    "    sign_types[i[\"ClassId\"]] = i[\"SignName\"]\n",
    "\n",
    "# pick a random sign to visualize\n",
    "index = random.randint(0, len(X_train))\n",
    "image = X_train[index].squeeze()\n",
    "\n",
    "plt.figure(figsize=(2,2))\n",
    "plt.imshow(image)\n",
    "print(\"Correct Classification ID: \", y_train[index])\n",
    "sign_name = sign_types[str(y_train[index])]\n",
    "print(\"Correct Sign Name: \", sign_name)"
   ]
  },
  {
   "cell_type": "markdown",
   "metadata": {},
   "source": [
    "----\n",
    "\n",
    "## Step 2: Design and Test a Model Architecture\n",
    "\n",
    "Design and implement a deep learning model that learns to recognize traffic signs. Train and test your model on the [German Traffic Sign Dataset](http://benchmark.ini.rub.de/?section=gtsrb&subsection=dataset).\n",
    "\n",
    "The LeNet-5 implementation shown in the [classroom](https://classroom.udacity.com/nanodegrees/nd013/parts/fbf77062-5703-404e-b60c-95b78b2f3f9e/modules/6df7ae49-c61c-4bb2-a23e-6527e69209ec/lessons/601ae704-1035-4287-8b11-e2c2716217ad/concepts/d4aca031-508f-4e0b-b493-e7b706120f81) at the end of the CNN lesson is a solid starting point. You'll have to change the number of classes and possibly the preprocessing, but aside from that it's plug and play! \n",
    "\n",
    "With the LeNet-5 solution from the lecture, you should expect a validation set accuracy of about 0.89. To meet specifications, the validation set accuracy will need to be at least 0.93. It is possible to get an even higher accuracy, but 0.93 is the minimum for a successful project submission. \n",
    "\n",
    "There are various aspects to consider when thinking about this problem:\n",
    "\n",
    "- Neural network architecture (is the network over or underfitting?)\n",
    "- Play around preprocessing techniques (normalization, rgb to grayscale, etc)\n",
    "- Number of examples per label (some have more than others).\n",
    "- Generate fake data.\n",
    "\n",
    "Here is an example of a [published baseline model on this problem](http://yann.lecun.com/exdb/publis/pdf/sermanet-ijcnn-11.pdf). It's not required to be familiar with the approach used in the paper but, it's good practice to try to read papers like these."
   ]
  },
  {
   "cell_type": "markdown",
   "metadata": {},
   "source": [
    "### Pre-process the Data Set (normalization, grayscale, etc.)"
   ]
  },
  {
   "cell_type": "markdown",
   "metadata": {},
   "source": [
    "Use the code cell (or multiple code cells, if necessary) to implement the first step of your project."
   ]
  },
  {
   "cell_type": "code",
   "execution_count": 29,
   "metadata": {
    "collapsed": false
   },
   "outputs": [
    {
     "name": "stdout",
     "output_type": "stream",
     "text": [
      "augment:  True\n",
      "initial data size:  (34799, 32, 32)\n",
      "x_rotated data size:  (34799, 32, 32)\n",
      "augmented X data size:  (69598, 32, 32)\n",
      "augmented y data size:  (69598,)\n",
      "final data size/shape:  (69598, 32, 32, 1)\n",
      "augment:  False\n",
      "final data size/shape:  (4410, 32, 32, 1)\n",
      "index:  20802\n",
      "Correct Classification ID:  35\n",
      "Correct Sign Name:  Ahead only\n"
     ]
    },
    {
     "data": {
      "image/png": "[encoded data removed]",
      "text/plain": [
       "<matplotlib.figure.Figure at 0x12e16fd68>"
      ]
     },
     "metadata": {},
     "output_type": "display_data"
    }
   ],
   "source": [
    "### Preprocess the data here. Preprocessing steps could include normalization, converting to grayscale, etc.\n",
    "### Feel free to use as many code cells as needed.\n",
    "\n",
    "\n",
    "import numpy as np\n",
    "from sklearn.utils import shuffle\n",
    "from skimage import exposure\n",
    "from skimage.transform import rotate\n",
    "\n",
    "# image transformation for data augmentation - currently only rotate\n",
    "def transform(X, deg):    \n",
    "    for i in range(X.shape[0]):\n",
    "        X[i] = rotate(X[i], random.uniform(-deg, deg), mode = 'edge')\n",
    "    return X\n",
    "\n",
    "# data preprocessing\n",
    "def preprocess(X, y, augment = False):\n",
    "    # preprocess the data by shuffling to ensure no order impact on training\n",
    "    X, y = shuffle(X, y)\n",
    "\n",
    "    # Use the Y channel of YUV as grayscale channel\n",
    "    X = 0.299 * X[:, :, :, 0] + 0.587 * X[:, :, :, 1] + 0.114 * X[:, :, :, 2]\n",
    "\n",
    "    # Augment the data(X) with random rotation +/- deg if augmentation is requested\n",
    "    print(\"augment: \", augment)\n",
    "    if augment:\n",
    "        print(\"initial data size: \",X.shape)\n",
    "        X_rotated = transform(X, 15.)\n",
    "        print(\"x_rotated data size: \",X_rotated.shape)\n",
    "        X = np.append(X, X_rotated, axis = 0)\n",
    "        y = np.append(y, y, axis = 0)\n",
    "        print(\"augmented X data size: \",X.shape)\n",
    "        print(\"augmented y data size: \",y.shape)\n",
    "\n",
    "    #normalize the data to -1 to 1\n",
    "    X = ((X - 128.0)/128.0).astype(np.float32)\n",
    "\n",
    "    # apply histogram equalization recommended from forums & Yann Lecun\n",
    "    # unable to utilize resolve adapthist errors, utilizing hist\n",
    "    # note that input image must already be normalized\n",
    "    for i in range(X.shape[0]):\n",
    "        X[i] = exposure.equalize_hist(X[i])\n",
    "\n",
    "    # Add a single grayscale channel since Y conversion dropped 4th/channel dimension\n",
    "    X = X.reshape(X.shape + (1,))\n",
    "    print(\"final data size/shape: \",X.shape)\n",
    "    \n",
    "    return X, y\n",
    "\n",
    "X_train_aug, y_train_aug = preprocess(X_train, y_train, augment=True)\n",
    "X_valid_pp, y_valid_pp = preprocess(X_valid, y_valid)\n",
    "\n",
    "# pick a random sign to visualize\n",
    "index = random.randint(0, len(X_train_aug))\n",
    "print(\"index: \", index)\n",
    "image = X_train_aug[index].squeeze()\n",
    "plt.figure(figsize=(2,2))\n",
    "plt.imshow(image, cmap='gray')\n",
    "print(\"Correct Classification ID: \", y_train_aug[index])\n",
    "sign_name = sign_types[str(y_train_aug[index])]\n",
    "print(\"Correct Sign Name: \", sign_name)\n",
    "\n"
   ]
  },
  {
   "cell_type": "code",
   "execution_count": 30,
   "metadata": {
    "collapsed": false
   },
   "outputs": [
    {
     "name": "stdout",
     "output_type": "stream",
     "text": [
      "Original Image\n"
     ]
    },
    {
     "data": {
      "text/plain": [
       "<matplotlib.image.AxesImage at 0x12e34dcc0>"
      ]
     },
     "execution_count": 30,
     "metadata": {},
     "output_type": "execute_result"
    },
    {
     "data": {
      "image/png": "[encoded data removed]",
      "text/plain": [
       "<matplotlib.figure.Figure at 0x12e226be0>"
      ]
     },
     "metadata": {},
     "output_type": "display_data"
    }
   ],
   "source": [
    "image = X_train_aug[index].squeeze()\n",
    "print(\"Original Image\")\n",
    "plt.figure(figsize=(2,2))\n",
    "plt.imshow(image)"
   ]
  },
  {
   "cell_type": "markdown",
   "metadata": {},
   "source": [
    "### Model Architecture"
   ]
  },
  {
   "cell_type": "code",
   "execution_count": 31,
   "metadata": {
    "collapsed": false
   },
   "outputs": [],
   "source": [
    "### Define your architecture here.\n",
    "### Feel free to use as many code cells as needed.\n",
    "from tensorflow.contrib.layers import flatten\n",
    "\n",
    "def LeNet(x):\n",
    "    # Arguments used for tf.truncated_normal, randomly defines variables for the weights and biases for each layer\n",
    "    mu = 0\n",
    "    sigma = 0.1\n",
    "    print(\"LeNet x input dimension: \", x.get_shape())\n",
    "    # TODO: Layer 1: Convolutional. Input = 32x32x1. Output = 28x28x10.\n",
    "    # Output depth (note I included each detail separately to help remember notes for future)\n",
    "    k_output = 10\n",
    "\n",
    "    # Image Properties - not used here as the input is coming in as x to LeNet\n",
    "    # image_width = 32\n",
    "    # image_height = 32\n",
    "    # color_channels is used as it is the input depth\n",
    "    color_channels = 1\n",
    "    \n",
    "    # Final # of logits the architecture needs to predict\n",
    "    num_logits = 43\n",
    "\n",
    "    # Convolution filter - calculated from new_height = (input_height - filter_height + 2 P)/S + 1\n",
    "    # could have a filter_size width and height but no need since usually square\n",
    "    filter_size = 5\n",
    "    # filter_size_height = 5 not using per above\n",
    "    stride = 1\n",
    "    padding = 'VALID'\n",
    "\n",
    "    # Input/Image - not used here as the input is coming in as x to LeNet\n",
    "    # input = tf.placeholder(\n",
    "    #     tf.float32,\n",
    "    #     shape=[None, image_height, image_width, color_channels])\n",
    "\n",
    "    # Weight and bias (weight includes the filter shape & we specify mu, sigma vs using defaults)\n",
    "    w1 = tf.Variable(tf.truncated_normal(\n",
    "        [filter_size, filter_size, color_channels, k_output], mu, sigma))\n",
    "    b1 = tf.Variable(tf.zeros(k_output))\n",
    "\n",
    "    # strides [batch, input_height, input_width, input_channels] generally batch, input_channels = 1\n",
    "    strides = [1, stride, stride, 1]\n",
    "\n",
    "    # Apply convolution\n",
    "    conv_1 = tf.nn.conv2d(x, w1, strides, padding)\n",
    "\n",
    "    # Add bias\n",
    "    conv_1 = tf.nn.bias_add(conv_1, b1)\n",
    "\n",
    "    # TODO: Activation.\n",
    "\n",
    "    # Use relu activation\n",
    "    conv_1 = tf.nn.relu(conv_1)\n",
    "\n",
    "    # TODO: Pooling. Input = 28x28x10. Output = 14x14x10.\n",
    "\n",
    "    # Pooling filter - calculated from new_height = (input_height - filter_height + 2 P)/S + 1\n",
    "    # could have a k_filter_size width & height but since generally square no need\n",
    "    k_filter_size = 2\n",
    "    stride = 2\n",
    "    padding = 'VALID'\n",
    "\n",
    "    # kisze & strides -> [batch, height, width, channels]). For both ksize and strides,\n",
    "    # the batch and channel dimensions are typically set to 1\n",
    "    ksize = [1, k_filter_size, k_filter_size, 1]\n",
    "    strides = [1, stride, stride, 1]\n",
    "\n",
    "    # apply pooling\n",
    "    conv_1 = tf.nn.max_pool(conv_1, ksize, strides, padding)\n",
    "\n",
    "\n",
    "    # TODO: Layer 2: Convolutional. Input = 14x14x10 Output = 10x10x20.\n",
    "\n",
    "    # Input & Output depth\n",
    "    k_input = 10\n",
    "    k_output = 20\n",
    "\n",
    "    # Convolution filter - calculated from new_height = (input_height - filter_height + 2 P)/S + 1\n",
    "    # could have a filter_size width and height but no need since usually square\n",
    "    filter_size = 5\n",
    "    # filter_size_height = 5 not using per above\n",
    "    stride = 1\n",
    "    padding = 'VALID'\n",
    "\n",
    "    # Weight and bias (weight includes the filter shape & we specify mu, sigma vs using defaults)\n",
    "    w2 = tf.Variable(tf.truncated_normal(\n",
    "        [filter_size, filter_size, k_input, k_output], mu, sigma))\n",
    "    b2 = tf.Variable(tf.zeros(k_output))\n",
    "\n",
    "    # strides [batch, input_height, input_width, input_channels] generally batch, input_channels = 1\n",
    "    strides = [1, stride, stride, 1]\n",
    "\n",
    "    # Apply convolution\n",
    "    conv_2 = tf.nn.conv2d(conv_1, w2, strides, padding)\n",
    "\n",
    "    # Add bias\n",
    "    conv_2 = tf.nn.bias_add(conv_2, b2)\n",
    "\n",
    "    # TODO: Activation.\n",
    "\n",
    "    # Use relu activation\n",
    "    conv_2 = tf.nn.relu(conv_2)\n",
    "\n",
    "    # TODO: Pooling. Input = 10x10x20. Output = 5x5x20.\n",
    "\n",
    "    # Pooling filter - calculated from new_height = (input_height - filter_height + 2 P)/S + 1\n",
    "    k_filter_size = 2\n",
    "    stride = 2\n",
    "    padding = 'VALID'\n",
    "\n",
    "    # kisze & strides -> [batch, height, width, channels]). For both ksize and strides,\n",
    "    # the batch and channel dimensions are typically set to 1\n",
    "    ksize = [1, k_filter_size, k_filter_size, 1]\n",
    "    strides = [1, stride, stride, 1]\n",
    "\n",
    "    # apply pooling\n",
    "    conv_2 = tf.nn.max_pool(conv_2, ksize, strides, padding)\n",
    "\n",
    "    # TODO: Flatten. Input = 5x5x20. Output = 500.\n",
    "    # fc_input = flatten(conv_2)\n",
    "    \n",
    "    # add the output of conv 1 as an additional input to FC1\n",
    "    # 14x14x10 adds 1960 inputs for total Output = 2460\n",
    "    conv_2_flat = flatten(conv_2)\n",
    "    conv_1_flat = flatten(conv_1)\n",
    "    #print(\"conv_2: \", conv_2_flat)\n",
    "    #print(\"conv_1: \", conv_1_flat)\n",
    "    fc_input = tf.concat(1, [conv_1_flat, conv_2_flat])\n",
    "\n",
    "    # TODO: Layer 3: Fully Connected. Input = 2460. Output = 200.\n",
    "    k_input = 2460\n",
    "    k_output = 200\n",
    "    w3 = tf.Variable(tf.truncated_normal(\n",
    "        (k_input, k_output), mu, sigma))\n",
    "    b3 = tf.Variable(tf.zeros(k_output))\n",
    "    fc_1 = tf.matmul(fc_input, w3) + b3\n",
    "    \n",
    "\n",
    "    # TODO: Activation.\n",
    "\n",
    "    fc_1 = tf.nn.relu(fc_1)\n",
    "    \n",
    "    # Add dropout to prevent overfitting\n",
    "    keep_prob = tf.placeholder(tf.float32) # probability to keep units\n",
    "    fc_1 = tf.nn.dropout(fc_1, keep_prob=0.7)\n",
    "\n",
    "    # TODO: Layer 4: Fully Connected. Input = 200. Output = 84.\n",
    "\n",
    "    k_input = 200\n",
    "    k_output = 84\n",
    "    w4 = tf.Variable(tf.truncated_normal(\n",
    "        (k_input, k_output), mu, sigma))\n",
    "    b4 = tf.Variable(tf.zeros(k_output))\n",
    "    fc_2 = tf.matmul(fc_1, w4) + b4\n",
    "\n",
    "    # TODO: Activation.\n",
    "\n",
    "    fc_2 = tf.nn.relu(fc_2)\n",
    "    \n",
    "    # Add dropout to prevent overfitting\n",
    "    keep_prob = tf.placeholder(tf.float32) # probability to keep units\n",
    "    fc_2 = tf.nn.dropout(fc_2, keep_prob=0.7)\n",
    "\n",
    "    # TODO: Layer 5: Fully Connected. Input = 84. Output = num_logits(43 in this case).\n",
    "\n",
    "    k_input = 84\n",
    "    k_output = num_logits\n",
    "    w5 = tf.Variable(tf.truncated_normal(\n",
    "        (k_input, k_output), mu, sigma))\n",
    "    b5 = tf.Variable(tf.zeros(k_output))\n",
    "    logits = tf.matmul(fc_2, w5) + b5\n",
    "\n",
    "    return logits"
   ]
  },
  {
   "cell_type": "markdown",
   "metadata": {},
   "source": [
    "### Train, Validate and Test the Model"
   ]
  },
  {
   "cell_type": "markdown",
   "metadata": {},
   "source": [
    "A validation set can be used to assess how well the model is performing. A low accuracy on the training and validation\n",
    "sets imply underfitting. A high accuracy on the training set but low accuracy on the validation set implies overfitting."
   ]
  },
  {
   "cell_type": "code",
   "execution_count": 52,
   "metadata": {
    "collapsed": false
   },
   "outputs": [
    {
     "name": "stdout",
     "output_type": "stream",
     "text": [
      "default graph reset\n",
      "LeNet x input dimension:  (?, 32, 32, 1)\n",
      "augmented X train data size:  (69598, 32, 32, 1)\n",
      "augmented y train data size:  (69598,)\n",
      "X valid data size:  (4410, 32, 32, 1)\n",
      "y valid data size:  (4410,)\n",
      "Training...\n",
      "\n",
      "EPOCH 1 ...\n",
      "Validation Accuracy = 0.773\n",
      "Training Accuracy = 0.798\n",
      "\n",
      "EPOCH 2 ...\n",
      "Validation Accuracy = 0.846\n",
      "Training Accuracy = 0.887\n",
      "\n",
      "EPOCH 3 ...\n",
      "Validation Accuracy = 0.885\n",
      "Training Accuracy = 0.927\n",
      "\n",
      "EPOCH 4 ...\n",
      "Validation Accuracy = 0.906\n",
      "Training Accuracy = 0.946\n",
      "\n",
      "EPOCH 5 ...\n",
      "Validation Accuracy = 0.907\n",
      "Training Accuracy = 0.959\n",
      "\n",
      "EPOCH 6 ...\n",
      "Validation Accuracy = 0.922\n",
      "Training Accuracy = 0.962\n",
      "\n",
      "EPOCH 7 ...\n",
      "Validation Accuracy = 0.926\n",
      "Training Accuracy = 0.971\n",
      "\n",
      "EPOCH 8 ...\n",
      "Validation Accuracy = 0.926\n",
      "Training Accuracy = 0.974\n",
      "\n",
      "EPOCH 9 ...\n",
      "Validation Accuracy = 0.931\n",
      "Training Accuracy = 0.975\n",
      "\n",
      "EPOCH 10 ...\n",
      "Validation Accuracy = 0.932\n",
      "Training Accuracy = 0.979\n",
      "\n",
      "EPOCH 11 ...\n",
      "Validation Accuracy = 0.937\n",
      "Training Accuracy = 0.983\n",
      "\n",
      "EPOCH 12 ...\n",
      "Validation Accuracy = 0.937\n",
      "Training Accuracy = 0.981\n",
      "\n",
      "EPOCH 13 ...\n",
      "Validation Accuracy = 0.933\n",
      "Training Accuracy = 0.985\n",
      "\n",
      "EPOCH 14 ...\n",
      "Validation Accuracy = 0.938\n",
      "Training Accuracy = 0.984\n",
      "\n",
      "EPOCH 15 ...\n",
      "Validation Accuracy = 0.940\n",
      "Training Accuracy = 0.983\n",
      "\n",
      "EPOCH 16 ...\n",
      "Validation Accuracy = 0.944\n",
      "Training Accuracy = 0.984\n",
      "\n",
      "EPOCH 17 ...\n",
      "Validation Accuracy = 0.941\n",
      "Training Accuracy = 0.989\n",
      "\n",
      "EPOCH 18 ...\n",
      "Validation Accuracy = 0.935\n",
      "Training Accuracy = 0.990\n",
      "\n",
      "EPOCH 19 ...\n",
      "Validation Accuracy = 0.954\n",
      "Training Accuracy = 0.988\n",
      "\n",
      "EPOCH 20 ...\n",
      "Validation Accuracy = 0.947\n",
      "Training Accuracy = 0.989\n",
      "\n",
      "EPOCH 21 ...\n",
      "Validation Accuracy = 0.947\n",
      "Training Accuracy = 0.988\n",
      "\n",
      "EPOCH 22 ...\n",
      "Validation Accuracy = 0.944\n",
      "Training Accuracy = 0.990\n",
      "\n",
      "EPOCH 23 ...\n",
      "Validation Accuracy = 0.939\n",
      "Training Accuracy = 0.990\n",
      "\n",
      "EPOCH 24 ...\n",
      "Validation Accuracy = 0.953\n",
      "Training Accuracy = 0.991\n",
      "\n",
      "EPOCH 25 ...\n",
      "Validation Accuracy = 0.954\n",
      "Training Accuracy = 0.992\n",
      "\n",
      "Model saved\n"
     ]
    }
   ],
   "source": [
    "### Train your model here.\n",
    "### Calculate and report the accuracy on the training and validation set.\n",
    "### Once a final model architecture is selected, \n",
    "### the accuracy on the test set should be calculated and reported as well.\n",
    "### Feel free to use as many code cells as needed.\n",
    "\n",
    "#setup Tensorflow\n",
    "import tensorflow as tf\n",
    "\n",
    "#invalidate any previously built graphs since we are using Jupyter & cells get rerun\n",
    "tf.reset_default_graph()\n",
    "print(\"default graph reset\")\n",
    "\n",
    "EPOCHS = 25\n",
    "BATCH_SIZE = 128\n",
    "\n",
    "# set placeholders and one_hot for Traffic Sign Data\n",
    "# note these were defined inside LeNet function, TODO: refactor\n",
    "color_channels = 1\n",
    "num_logits = 43\n",
    "x = tf.placeholder(tf.float32, (None, 32, 32, color_channels))\n",
    "y = tf.placeholder(tf.int32, (None))\n",
    "one_hot_y = tf.one_hot(y, num_logits)\n",
    "\n",
    "# create a training pipeline\n",
    "rate = 0.001\n",
    "\n",
    "logits = LeNet(x)\n",
    "cross_entropy = tf.nn.softmax_cross_entropy_with_logits(logits, one_hot_y)\n",
    "loss_operation = tf.reduce_mean(cross_entropy)\n",
    "optimizer = tf.train.AdamOptimizer(learning_rate = rate)\n",
    "training_operation = optimizer.minimize(loss_operation)\n",
    "\n",
    "# evaluate\n",
    "correct_prediction = tf.equal(tf.argmax(logits, 1), tf.argmax(one_hot_y, 1))\n",
    "accuracy_operation = tf.reduce_mean(tf.cast(correct_prediction, tf.float32))\n",
    "\n",
    "# create a saver object - see https://www.tensorflow.org/programmers_guide/variables\n",
    "saver = tf.train.Saver()\n",
    "\n",
    "def evaluate(X_data, y_data):\n",
    "    num_examples = len(X_data)\n",
    "    total_accuracy = 0\n",
    "    sess = tf.get_default_session()\n",
    "    for offset in range(0, num_examples, BATCH_SIZE):\n",
    "        batch_x, batch_y = X_data[offset:offset+BATCH_SIZE], y_data[offset:offset+BATCH_SIZE]\n",
    "        accuracy = sess.run(accuracy_operation, feed_dict={x: batch_x, y: batch_y})\n",
    "        total_accuracy += (accuracy * len(batch_x))\n",
    "    return total_accuracy / num_examples\n",
    "\n",
    "def train(X_train, y_train, X_valid, y_valid):\n",
    "    # train the model\n",
    "    with tf.Session() as sess:\n",
    "        sess.run(tf.global_variables_initializer())\n",
    "        num_examples = len(X_train)\n",
    "\n",
    "        print(\"Training...\")\n",
    "        print()\n",
    "        for i in range(EPOCHS):\n",
    "            X_train, y_train = shuffle(X_train, y_train)\n",
    "            for offset in range(0, num_examples, BATCH_SIZE):\n",
    "                end = offset + BATCH_SIZE\n",
    "                batch_x, batch_y = X_train[offset:end], y_train[offset:end]\n",
    "                sess.run(training_operation, feed_dict={x: batch_x, y: batch_y})\n",
    "        \n",
    "            validation_accuracy = evaluate(X_valid, y_valid)\n",
    "            print(\"EPOCH {} ...\".format(i+1))\n",
    "            print(\"Validation Accuracy = {:.3f}\".format(validation_accuracy))\n",
    "            training_accuracy = evaluate(X_train, y_train)\n",
    "            print(\"Training Accuracy = {:.3f}\".format(training_accuracy))\n",
    "            print()\n",
    "\n",
    "        saver.save(sess, './traffic')\n",
    "        print(\"Model saved\")\n",
    "\n",
    "print(\"augmented X train data size: \",X_train_aug.shape)\n",
    "print(\"augmented y train data size: \",y_train_aug.shape)\n",
    "print(\"X valid data size: \",X_valid_pp.shape)\n",
    "print(\"y valid data size: \",y_valid_pp.shape)\n",
    "train(X_train_aug, y_train_aug, X_valid_pp, y_valid_pp)"
   ]
  },
  {
   "cell_type": "markdown",
   "metadata": {},
   "source": [
    "---\n",
    "\n",
    "## Step 3: Test a Model on New Images\n",
    "\n",
    "To give yourself more insight into how your model is working, download at least five pictures of German traffic signs from the web and use your model to predict the traffic sign type.\n",
    "\n",
    "You may find `signnames.csv` useful as it contains mappings from the class id (integer) to the actual sign name."
   ]
  },
  {
   "cell_type": "markdown",
   "metadata": {},
   "source": [
    "### Load and Output the Images"
   ]
  },
  {
   "cell_type": "code",
   "execution_count": 53,
   "metadata": {
    "collapsed": false
   },
   "outputs": [
    {
     "name": "stdout",
     "output_type": "stream",
     "text": [
      "images array shape:  (5, 32, 32, 3)\n",
      "Original images:\n",
      "augment:  False\n",
      "final data size/shape:  (5, 32, 32, 1)\n",
      "(5, 32, 32, 1)\n",
      "Preprocessed Images:\n"
     ]
    },
    {
     "data": {
      "image/png": "[encoded data removed]",
      "text/plain": [
       "<matplotlib.figure.Figure at 0x131434b38>"
      ]
     },
     "metadata": {},
     "output_type": "display_data"
    },
    {
     "data": {
      "image/png": "[encoded data removed]",
      "text/plain": [
       "<matplotlib.figure.Figure at 0x13200aba8>"
      ]
     },
     "metadata": {},
     "output_type": "display_data"
    },
    {
     "data": {
      "image/png": "[encoded data removed]",
      "text/plain": [
       "<matplotlib.figure.Figure at 0x13207bc88>"
      ]
     },
     "metadata": {},
     "output_type": "display_data"
    },
    {
     "data": {
      "image/png": "[encoded data removed]",
      "text/plain": [
       "<matplotlib.figure.Figure at 0x1320f1e48>"
      ]
     },
     "metadata": {},
     "output_type": "display_data"
    },
    {
     "data": {
      "image/png": "[encoded data removed]",
      "text/plain": [
       "<matplotlib.figure.Figure at 0x1321fb3c8>"
      ]
     },
     "metadata": {},
     "output_type": "display_data"
    },
    {
     "data": {
      "image/png": "[encoded data removed]",
      "text/plain": [
       "<matplotlib.figure.Figure at 0x132270be0>"
      ]
     },
     "metadata": {},
     "output_type": "display_data"
    },
    {
     "data": {
      "image/png": "[encoded data removed]",
      "text/plain": [
       "<matplotlib.figure.Figure at 0x132354a20>"
      ]
     },
     "metadata": {},
     "output_type": "display_data"
    },
    {
     "data": {
      "image/png": "[encoded data removed]",
      "text/plain": [
       "<matplotlib.figure.Figure at 0x131adb7f0>"
      ]
     },
     "metadata": {},
     "output_type": "display_data"
    },
    {
     "data": {
      "image/png": "[encoded data removed]",
      "text/plain": [
       "<matplotlib.figure.Figure at 0x131d18b70>"
      ]
     },
     "metadata": {},
     "output_type": "display_data"
    },
    {
     "data": {
      "image/png": "[encoded data removed]",
      "text/plain": [
       "<matplotlib.figure.Figure at 0x131d554e0>"
      ]
     },
     "metadata": {},
     "output_type": "display_data"
    }
   ],
   "source": [
    "### Load the images and plot them here.\n",
    "### Feel free to use as many code cells as needed.\n",
    "import cv2\n",
    "import matplotlib.pyplot as plt\n",
    "# Visualizations will be shown in the notebook.\n",
    "%matplotlib inline\n",
    "# close the plots that are open as there were too many for memory\n",
    "plt.close('all')\n",
    "images = np.empty([5, 32, 32, 3], dtype = int)\n",
    "# these are the image identifies for the test images\n",
    "# note the last 2 may actually be euro vs german and might not be in the model\n",
    "image_types = np.array([21,1,8,17,28])\n",
    "print(\"images array shape: \", images.shape)\n",
    "print(\"Original images:\")\n",
    "for i in range(1, 6):\n",
    "    file = \"new-signs/sign_\" + str(i) + \".jpg\"\n",
    "    image = cv2.imread(file, 1)\n",
    "    image = cv2.resize(image, (32, 32), interpolation = cv2.INTER_AREA)\n",
    "    images[i-1] = image\n",
    "    plt.figure(figsize=(2,2))\n",
    "    plt.imshow(image)\n",
    "\n",
    "X_pp, y_pp = preprocess(images, image_types)\n",
    "print(X_pp.shape)\n",
    "print(\"Preprocessed Images:\")\n",
    "for i in range(0, 5):\n",
    "    image_pp = X_pp[i].squeeze()\n",
    "    plt.figure(figsize=(2,2))\n",
    "    plt.imshow(image_pp, cmap=\"gray\")\n",
    "#plt.close('all')"
   ]
  },
  {
   "cell_type": "markdown",
   "metadata": {},
   "source": [
    "### Predict the Sign Type for Each Image"
   ]
  },
  {
   "cell_type": "code",
   "execution_count": 61,
   "metadata": {
    "collapsed": false
   },
   "outputs": [
    {
     "name": "stdout",
     "output_type": "stream",
     "text": [
      "LeNet x input dimension:  (?, 32, 32, 1)\n",
      "importing meta_graph while creating saver...be patient, this takes a while\n",
      "created saver\n",
      "entered session - be patient, this takes forever\n",
      "ran global variable initializer\n",
      "session restored...starting calculations\n",
      "result found\n",
      "correct classifications after shuffle: [28 21 17  8  1]\n",
      "predicted classifications [25, 25, 22, 25, 19]\n",
      "probabilities:  [[ 0.10029613  0.05591123  0.05494744  0.05316524  0.04977598]\n",
      " [ 0.19460784  0.10148203  0.08329669  0.07388696  0.04025015]\n",
      " [ 0.18737853  0.09056242  0.05137339  0.04388479  0.04259607]\n",
      " [ 0.09954017  0.07394556  0.06940037  0.05789029  0.05628622]\n",
      " [ 0.07398175  0.07179473  0.06865048  0.0605038   0.04742735]]\n",
      "softmax predictions:  [[25 27 42 12 24]\n",
      " [25  0 14 42 19]\n",
      " [22 25 13 42 14]\n",
      " [25 26 19 14 42]\n",
      " [19 25  0 24 40]]\n"
     ]
    }
   ],
   "source": [
    "### Run the predictions here and use the model to output the prediction for each image.\n",
    "### Make sure to pre-process the images with the same pre-processing pipeline used earlier.\n",
    "### Feel free to use as many code cells as needed.\n",
    "import numpy as np\n",
    "import tensorflow as tf\n",
    "\n",
    "# set placeholders for Traffic Sign Data\n",
    "# see LeNet function, TODO: refactor\n",
    "color_channels = 1\n",
    "num_logits = 43\n",
    "x = tf.placeholder(tf.float32, (None, 32, 32, color_channels))\n",
    "#y = tf.placeholder(tf.int32, (None))\n",
    "\n",
    "logits = LeNet(x)\n",
    "softmax = tf.nn.softmax(logits)\n",
    "\n",
    "print(\"importing meta_graph while creating saver...be patient, this takes a while\")\n",
    "new_saver = tf.train.import_meta_graph('./traffic.meta')\n",
    "print(\"created saver\")\n",
    "# restore the meta_graph and model https://www.tensorflow.org/programmers_guide/meta_graph\n",
    "# some online discussion of troubleshooting restores\n",
    "# https://discussions.udacity.com/t/0-accuracy-for-new-images/226265/7\n",
    "# http://stackoverflow.com/questions/33759623/tensorflow-how-to-save-restore-a-model-python\n",
    "# http://stackoverflow.com/questions/34727431/tensorflow-on-jupyter-cant-restore-variables\n",
    "# https://www.tensorflow.org/programmers_guide/variables\n",
    "with tf.Session() as sess:\n",
    "    print(\"entered session - be patient, this takes forever\")\n",
    "    sess.run(tf.global_variables_initializer())\n",
    "    print(\"ran global variable initializer\")\n",
    "    new_saver = tf.train.import_meta_graph('./traffic.meta')\n",
    "    #print(\"created saver\")\n",
    "    # this restore works only when the global initializer is run but\n",
    "    # seems to be returning different incorrect model each time\n",
    "    # likely because its using latest checkpoint vs saved ./traffic\n",
    "    new_saver.restore(sess, tf.train.latest_checkpoint('.'))\n",
    "    #new_saver.restore(sess, './traffic')\n",
    "    print(\"session restored...starting calculations\")\n",
    "    result = sess.run(softmax, feed_dict={x: X_pp})\n",
    "    print(\"result found\")\n",
    "    values, indices = tf.nn.top_k(result, 5)\n",
    "    probs = sess.run(values)\n",
    "    predictions = sess.run(indices)\n",
    "    print(\"correct classifications after shuffle:\", y_pp)\n",
    "    print(\"predicted classifications\", [predictions[i][0] for i in range(0,5)])\n",
    "    print(\"probabilities: \", probs)\n",
    "    print(\"softmax predictions: \", predictions)\n",
    "\n"
   ]
  },
  {
   "cell_type": "code",
   "execution_count": 24,
   "metadata": {
    "collapsed": false
   },
   "outputs": [
    {
     "name": "stdout",
     "output_type": "stream",
     "text": [
      "[[ 0.01159189  0.01935705  0.01676688  0.04678376  0.01346931  0.05994799\n",
      "   0.01574753  0.01125661  0.03044795  0.0419371   0.01274114  0.01798391\n",
      "   0.05130496  0.01294096  0.02567742  0.02680742  0.01796389  0.00830026\n",
      "   0.03467838  0.01113878  0.01015871  0.01811454  0.04463921  0.02031746\n",
      "   0.01658779  0.00749599  0.00963662  0.00916195  0.01765848  0.0078376\n",
      "   0.0263499   0.00899981  0.04659725  0.03707169  0.02477649  0.01248369\n",
      "   0.01359271  0.01826203  0.04308145  0.00972516  0.05029712  0.04563932\n",
      "   0.01467186]\n",
      " [ 0.01348972  0.04491979  0.02165552  0.02923387  0.01264764  0.01518471\n",
      "   0.0180135   0.01607833  0.03434528  0.02517685  0.01080473  0.01933046\n",
      "   0.03383033  0.01816606  0.01482808  0.03354264  0.02341592  0.02959017\n",
      "   0.02412272  0.01335105  0.01895546  0.02965905  0.02021733  0.04328776\n",
      "   0.02468291  0.01707426  0.02039755  0.01555903  0.02197525  0.01014026\n",
      "   0.02014799  0.0250588   0.03977583  0.03874345  0.0250028   0.01174393\n",
      "   0.04614499  0.00991579  0.02577841  0.02142998  0.02083036  0.02471628\n",
      "   0.01703504]\n",
      " [ 0.02260964  0.0105358   0.00417154  0.00670879  0.00705514  0.10531802\n",
      "   0.01033701  0.04031112  0.01405706  0.02463809  0.0353647   0.01377795\n",
      "   0.02937587  0.03461843  0.00886961  0.02468573  0.02122898  0.01785148\n",
      "   0.03887348  0.01951025  0.00788841  0.03101624  0.04522405  0.00743366\n",
      "   0.00898094  0.01004621  0.01417564  0.05947703  0.02589189  0.0055336\n",
      "   0.03136672  0.01647876  0.02828585  0.0099643   0.00523693  0.01124292\n",
      "   0.01143044  0.00847073  0.03594828  0.04398046  0.02943389  0.05457252\n",
      "   0.00802199]\n",
      " [ 0.01185525  0.01393469  0.01600128  0.02451798  0.01484988  0.01990686\n",
      "   0.00611461  0.01531591  0.02393619  0.02168855  0.00710471  0.04423473\n",
      "   0.06936213  0.04583993  0.01577205  0.01888319  0.02605612  0.02759396\n",
      "   0.02801419  0.0146582   0.01007926  0.02408934  0.05970668  0.03544014\n",
      "   0.02089951  0.01246832  0.00801501  0.00945951  0.00792573  0.0030152\n",
      "   0.03494478  0.03196162  0.03457548  0.0550443   0.03015106  0.00941779\n",
      "   0.02539984  0.01226376  0.02562366  0.02033329  0.04372576  0.01403173\n",
      "   0.0057879 ]\n",
      " [ 0.0237394   0.01326497  0.01676271  0.01133148  0.01342495  0.02806822\n",
      "   0.00777686  0.02900881  0.03524999  0.02272221  0.00955688  0.03113041\n",
      "   0.04949994  0.03691676  0.01892093  0.04664125  0.00979923  0.0364167\n",
      "   0.02242254  0.02601039  0.00426654  0.0313184   0.04242177  0.02578974\n",
      "   0.00921248  0.02007243  0.00796579  0.0202569   0.02616253  0.00566937\n",
      "   0.04621568  0.02681826  0.04434112  0.02425955  0.00960088  0.00562462\n",
      "   0.01636546  0.00614268  0.03106458  0.01513888  0.04243157  0.04026907\n",
      "   0.0099272 ]]\n"
     ]
    }
   ],
   "source": [
    "print(result)"
   ]
  },
  {
   "cell_type": "markdown",
   "metadata": {},
   "source": [
    "### Analyze Performance"
   ]
  },
  {
   "cell_type": "code",
   "execution_count": 60,
   "metadata": {
    "collapsed": false
   },
   "outputs": [
    {
     "name": "stdout",
     "output_type": "stream",
     "text": [
      "3\n",
      "predicted classifications [3, 24, 22, 3, 37]\n",
      "correct classifications after shuffle: [28 21 17  8  1]\n",
      "probabilities: [[ 0.05033142  0.04830914  0.03646114]\n",
      " [ 0.04068949  0.03734069  0.03723601]\n",
      " [ 0.04406142  0.03922649  0.03393063]\n",
      " [ 0.05199469  0.04426674  0.03467896]\n",
      " [ 0.05882615  0.0565798   0.04631095]]\n",
      "softmax predictions:  [[ 3 31 34]\n",
      " [24 31 40]\n",
      " [22 28  3]\n",
      " [ 3 22 28]\n",
      " [37  3 31]]\n"
     ]
    }
   ],
   "source": [
    "# used this to save prior classification - model is still not loading correctly\n",
    "# as predicted classifications change each time for the same images so\n",
    "# somehow different weights are being loaded each time.  I've spent ages on\n",
    "# this so it's time to move on as it seems I'm debugging the model save interaction\n",
    "# between Tensorflow and Jupyter rather than learning about deep neural networks\n",
    "# and self driving cars - prediction accuracy is zero, feedback on forums from\n",
    "# moderator is that there may be some type of incompatibility between python\n",
    "# Tensorflow versions and Jupyter\n",
    "    print(\"predicted classifications\", [predictions[i][0] for i in range(0,5)])\n",
    "    print(\"correct classifications after shuffle:\", y_pp)\n",
    "    print(\"probabilities:\", probs)\n",
    "    print(\"softmax predictions: \", predictions)\n",
    "    #tf.__version__"
   ]
  },
  {
   "cell_type": "code",
   "execution_count": 4,
   "metadata": {
    "collapsed": true
   },
   "outputs": [],
   "source": [
    "### Calculate the accuracy for these 5 new images. \n",
    "### For example, if the model predicted 1 out of 5 signs correctly, it's 20% accurate on these new images."
   ]
  },
  {
   "cell_type": "markdown",
   "metadata": {},
   "source": [
    "### Output Top 5 Softmax Probabilities For Each Image Found on the Web"
   ]
  },
  {
   "cell_type": "markdown",
   "metadata": {},
   "source": [
    "For each of the new images, print out the model's softmax probabilities to show the **certainty** of the model's predictions (limit the output to the top 5 probabilities for each image). [`tf.nn.top_k`](https://www.tensorflow.org/versions/r0.12/api_docs/python/nn.html#top_k) could prove helpful here. \n",
    "\n",
    "The example below demonstrates how tf.nn.top_k can be used to find the top k predictions for each image.\n",
    "\n",
    "`tf.nn.top_k` will return the values and indices (class ids) of the top k predictions. So if k=3, for each sign, it'll return the 3 largest probabilities (out of a possible 43) and the correspoding class ids.\n",
    "\n",
    "Take this numpy array as an example. The values in the array represent predictions. The array contains softmax probabilities for five candidate images with six possible classes. `tk.nn.top_k` is used to choose the three classes with the highest probability:\n",
    "\n",
    "```\n",
    "# (5, 6) array\n",
    "a = np.array([[ 0.24879643,  0.07032244,  0.12641572,  0.34763842,  0.07893497,\n",
    "         0.12789202],\n",
    "       [ 0.28086119,  0.27569815,  0.08594638,  0.0178669 ,  0.18063401,\n",
    "         0.15899337],\n",
    "       [ 0.26076848,  0.23664738,  0.08020603,  0.07001922,  0.1134371 ,\n",
    "         0.23892179],\n",
    "       [ 0.11943333,  0.29198961,  0.02605103,  0.26234032,  0.1351348 ,\n",
    "         0.16505091],\n",
    "       [ 0.09561176,  0.34396535,  0.0643941 ,  0.16240774,  0.24206137,\n",
    "         0.09155967]])\n",
    "```\n",
    "\n",
    "Running it through `sess.run(tf.nn.top_k(tf.constant(a), k=3))` produces:\n",
    "\n",
    "```\n",
    "TopKV2(values=array([[ 0.34763842,  0.24879643,  0.12789202],\n",
    "       [ 0.28086119,  0.27569815,  0.18063401],\n",
    "       [ 0.26076848,  0.23892179,  0.23664738],\n",
    "       [ 0.29198961,  0.26234032,  0.16505091],\n",
    "       [ 0.34396535,  0.24206137,  0.16240774]]), indices=array([[3, 0, 5],\n",
    "       [0, 1, 4],\n",
    "       [0, 5, 1],\n",
    "       [1, 3, 5],\n",
    "       [1, 4, 3]], dtype=int32))\n",
    "```\n",
    "\n",
    "Looking just at the first row we get `[ 0.34763842,  0.24879643,  0.12789202]`, you can confirm these are the 3 largest probabilities in `a`. You'll also notice `[3, 0, 5]` are the corresponding indices."
   ]
  },
  {
   "cell_type": "code",
   "execution_count": 67,
   "metadata": {
    "collapsed": false
   },
   "outputs": [
    {
     "name": "stdout",
     "output_type": "stream",
     "text": [
      "Softmax probabilities: \n",
      "[[ 0.10029613  0.05591123  0.05494744  0.05316524  0.04977598]\n",
      " [ 0.19460784  0.10148203  0.08329669  0.07388696  0.04025015]\n",
      " [ 0.18737853  0.09056242  0.05137339  0.04388479  0.04259607]\n",
      " [ 0.09954017  0.07394556  0.06940037  0.05789029  0.05628622]\n",
      " [ 0.07398175  0.07179473  0.06865048  0.0605038   0.04742735]]\n",
      "The model is more certain on this iteration than usual for the first 3 predictions (2x prob 1st vs 2nd).\n",
      "This is not the general case as can be seen in the probs from the prior iteration under Analyze Performance.\n",
      "See prior comments that saved model loading does not appear to be functioning.\n"
     ]
    }
   ],
   "source": [
    "### Print out the top five softmax probabilities for the predictions on the German traffic sign images found on the web. \n",
    "### Feel free to use as many code cells as needed.\n",
    "\n",
    "# see prior code and comments\n",
    "print(\"Softmax probabilities: \")\n",
    "print(probs)\n",
    "print(\"The model is more certain on this iteration than usual for the first 3 predictions (2x prob 1st vs 2nd).\")\n",
    "print(\"This is not the general case as can be seen in the probs from the prior iteration under Analyze Performance.\")\n",
    "print(\"See prior comments that saved model loading does not appear to be functioning.\")"
   ]
  },
  {
   "cell_type": "markdown",
   "metadata": {},
   "source": [
    "---\n",
    "\n",
    "## Step 4: Visualize the Neural Network's State with Test Images\n",
    "\n",
    " This Section is not required to complete but acts as an additional excersise for understaning the output of a neural network's weights. While neural networks can be a great learning device they are often referred to as a black box. We can understand what the weights of a neural network look like better by plotting their feature maps. After successfully training your neural network you can see what it's feature maps look like by plotting the output of the network's weight layers in response to a test stimuli image. From these plotted feature maps, it's possible to see what characteristics of an image the network finds interesting. For a sign, maybe the inner network feature maps react with high activation to the sign's boundary outline or to the contrast in the sign's painted symbol.\n",
    "\n",
    " Provided for you below is the function code that allows you to get the visualization output of any tensorflow weight layer you want. The inputs to the function should be a stimuli image, one used during training or a new one you provided, and then the tensorflow variable name that represents the layer's state during the training process, for instance if you wanted to see what the [LeNet lab's](https://classroom.udacity.com/nanodegrees/nd013/parts/fbf77062-5703-404e-b60c-95b78b2f3f9e/modules/6df7ae49-c61c-4bb2-a23e-6527e69209ec/lessons/601ae704-1035-4287-8b11-e2c2716217ad/concepts/d4aca031-508f-4e0b-b493-e7b706120f81) feature maps looked like for it's second convolutional layer you could enter conv2 as the tf_activation variable.\n",
    "\n",
    "For an example of what feature map outputs look like, check out NVIDIA's results in their paper [End-to-End Deep Learning for Self-Driving Cars](https://devblogs.nvidia.com/parallelforall/deep-learning-self-driving-cars/) in the section Visualization of internal CNN State. NVIDIA was able to show that their network's inner weights had high activations to road boundary lines by comparing feature maps from an image with a clear path to one without. Try experimenting with a similar test to show that your trained network's weights are looking for interesting features, whether it's looking at differences in feature maps from images with or without a sign, or even what feature maps look like in a trained network vs a completely untrained one on the same sign image.\n",
    "\n",
    "<figure>\n",
    " <img src=\"visualize_cnn.png\" width=\"380\" alt=\"Combined Image\" />\n",
    " <figcaption>\n",
    " <p></p> \n",
    " <p style=\"text-align: center;\"> Your output should look something like this (above)</p> \n",
    " </figcaption>\n",
    "</figure>\n",
    " <p></p> \n"
   ]
  },
  {
   "cell_type": "code",
   "execution_count": 69,
   "metadata": {
    "collapsed": false
   },
   "outputs": [
    {
     "ename": "NameError",
     "evalue": "name 'conv_2' is not defined",
     "output_type": "error",
     "traceback": [
      "\u001b[0;31m---------------------------------------------------------------------------\u001b[0m",
      "\u001b[0;31mNameError\u001b[0m                                 Traceback (most recent call last)",
      "\u001b[0;32m<ipython-input-69-027ecf80e528>\u001b[0m in \u001b[0;36m<module>\u001b[0;34m()\u001b[0m\n\u001b[1;32m     28\u001b[0m             \u001b[0mplt\u001b[0m\u001b[0;34m.\u001b[0m\u001b[0mimshow\u001b[0m\u001b[0;34m(\u001b[0m\u001b[0mactivation\u001b[0m\u001b[0;34m[\u001b[0m\u001b[0;36m0\u001b[0m\u001b[0;34m,\u001b[0m\u001b[0;34m:\u001b[0m\u001b[0;34m,\u001b[0m\u001b[0;34m:\u001b[0m\u001b[0;34m,\u001b[0m \u001b[0mfeaturemap\u001b[0m\u001b[0;34m]\u001b[0m\u001b[0;34m,\u001b[0m \u001b[0minterpolation\u001b[0m\u001b[0;34m=\u001b[0m\u001b[0;34m\"nearest\"\u001b[0m\u001b[0;34m,\u001b[0m \u001b[0mcmap\u001b[0m\u001b[0;34m=\u001b[0m\u001b[0;34m\"gray\"\u001b[0m\u001b[0;34m)\u001b[0m\u001b[0;34m\u001b[0m\u001b[0m\n\u001b[1;32m     29\u001b[0m \u001b[0;34m\u001b[0m\u001b[0m\n\u001b[0;32m---> 30\u001b[0;31m \u001b[0moutputFeatureMap\u001b[0m\u001b[0;34m(\u001b[0m\u001b[0mX_pp\u001b[0m\u001b[0;34m[\u001b[0m\u001b[0;36m0\u001b[0m\u001b[0;34m]\u001b[0m\u001b[0;34m,\u001b[0m \u001b[0mconv_2\u001b[0m\u001b[0;34m)\u001b[0m\u001b[0;34m\u001b[0m\u001b[0m\n\u001b[0m",
      "\u001b[0;31mNameError\u001b[0m: name 'conv_2' is not defined"
     ]
    }
   ],
   "source": [
    "### Visualize your network's feature maps here.\n",
    "### Feel free to use as many code cells as needed.\n",
    "\n",
    "# image_input: the test image being fed into the network to produce the feature maps\n",
    "# tf_activation: should be a tf variable name used during your training procedure that represents the calculated state of a specific weight layer\n",
    "# activation_min/max: can be used to view the activation contrast in more detail, by default matplot sets min and max to the actual min and max values of the output\n",
    "# plt_num: used to plot out multiple different weight feature map sets on the same block, just extend the plt number for each new feature map entry\n",
    "\n",
    "def outputFeatureMap(image_input, tf_activation, activation_min=-1, activation_max=-1 ,plt_num=1):\n",
    "    # Here make sure to preprocess your image_input in a way your network expects\n",
    "    # with size, normalization, ect if needed\n",
    "    # image_input =\n",
    "    # Note: x should be the same name as your network's tensorflow data placeholder variable\n",
    "    # If you get an error tf_activation is not defined it maybe having trouble accessing the variable from inside a function\n",
    "    activation = tf_activation.eval(session=sess,feed_dict={x : image_input})\n",
    "    featuremaps = activation.shape[3]\n",
    "    plt.figure(plt_num, figsize=(15,15))\n",
    "    for featuremap in range(featuremaps):\n",
    "        plt.subplot(6,8, featuremap+1) # sets the number of feature maps to show on each row and column\n",
    "        plt.title('FeatureMap ' + str(featuremap)) # displays the feature map number\n",
    "        if activation_min != -1 & activation_max != -1:\n",
    "            plt.imshow(activation[0,:,:, featuremap], interpolation=\"nearest\", vmin =activation_min, vmax=activation_max, cmap=\"gray\")\n",
    "        elif activation_max != -1:\n",
    "            plt.imshow(activation[0,:,:, featuremap], interpolation=\"nearest\", vmax=activation_max, cmap=\"gray\")\n",
    "        elif activation_min !=-1:\n",
    "            plt.imshow(activation[0,:,:, featuremap], interpolation=\"nearest\", vmin=activation_min, cmap=\"gray\")\n",
    "        else:\n",
    "            plt.imshow(activation[0,:,:, featuremap], interpolation=\"nearest\", cmap=\"gray\")\n",
    "            \n",
    "outputFeatureMap(X_pp[0], conv_2)"
   ]
  },
  {
   "cell_type": "markdown",
   "metadata": {},
   "source": [
    "\n",
    "## Close TensorFlow Session\n",
    "We are now done using TensorFlow, so we close the session to release its resources."
   ]
  },
  {
   "cell_type": "code",
   "execution_count": null,
   "metadata": {
    "collapsed": true
   },
   "outputs": [],
   "source": [
    "# This has been commented out in case you want to modify and experiment\n",
    "# with the Notebook without having to restart it.\n",
    "# session.close()"
   ]
  },
  {
   "cell_type": "markdown",
   "metadata": {},
   "source": [
    "### Question 9\n",
    "\n",
    "Discuss how you used the visual output of your trained network's feature maps to show that it had learned to look for interesting characteristics in traffic sign images\n"
   ]
  },
  {
   "cell_type": "markdown",
   "metadata": {},
   "source": [
    "**Answer:**"
   ]
  },
  {
   "cell_type": "markdown",
   "metadata": {},
   "source": [
    "> **Note**: Once you have completed all of the code implementations and successfully answered each question above, you may finalize your work by exporting the iPython Notebook as an HTML document. You can do this by using the menu above and navigating to  \\n\",\n",
    "    \"**File -> Download as -> HTML (.html)**. Include the finished document along with this notebook as your submission."
   ]
  },
  {
   "cell_type": "markdown",
   "metadata": {},
   "source": [
    "### Project Writeup\n",
    "\n",
    "Once you have completed the code implementation, document your results in a project writeup using this [template](https://github.com/udacity/CarND-Traffic-Sign-Classifier-Project/blob/master/writeup_template.md) as a guide. The writeup can be in a markdown or pdf file. "
   ]
  }
 ],
 "metadata": {
  "anaconda-cloud": {},
  "kernelspec": {
   "display_name": "Python 3",
   "language": "python",
   "name": "python3"
  },
  "language_info": {
   "codemirror_mode": {
    "name": "ipython",
    "version": 3
   },
   "file_extension": ".py",
   "mimetype": "text/x-python",
   "name": "python",
   "nbconvert_exporter": "python",
   "pygments_lexer": "ipython3",
   "version": "3.5.2"
  },
  "widgets": {
   "state": {},
   "version": "1.1.2"
  }
 },
 "nbformat": 4,
 "nbformat_minor": 1
}
